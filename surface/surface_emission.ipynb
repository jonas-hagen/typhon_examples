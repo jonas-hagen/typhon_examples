{
 "cells": [
  {
   "cell_type": "markdown",
   "metadata": {},
   "source": [
    "# Microwave Ocean Surface Emission with ARTS\n",
    "\n",
    "This notebook demonstrates how to use the TELSEM and FASTEM interfaces in ARTS to include microwave surface emission in radiative transfer calculations."
   ]
  },
  {
   "cell_type": "code",
   "execution_count": 46,
   "metadata": {},
   "outputs": [
    {
     "name": "stdout",
     "output_type": "stream",
     "text": [
      "env: ARTS_INCLUDE_PATH=/home/simonpf/src/arts/controlfiles/\n",
      "env: ARTS_DATA_PATH=/home/simonpf/src/arts_xml/\n",
      "env: ARTS_BUILD_PATH=/home/simonpf/build/arts/\n"
     ]
    },
    {
     "data": {
      "text/html": [
       "\n",
       "<style>\n",
       "div.output_area img, div.output_area svg {\n",
       "    display: block;\n",
       "    margin-left: auto;\n",
       "    margin-right: auto;\n",
       "    max-width: 100%;\n",
       "    height: auto;\n",
       "}\n",
       "\n",
       ".rendered_html h1 {\n",
       "    font-size: 185.7%;\n",
       "    margin: 1.08em 0 0 0;\n",
       "    margin-top: 1.08em;\n",
       "    margin-bottom: 1.08em;\n",
       "    font-weight: bold;\n",
       "    line-height: 1.0;\n",
       "    text-align: center;\n",
       "}\n",
       "\n",
       "div.output_area img, div.output_area svg {\n",
       "    display: block;\n",
       "    margin-left: auto;\n",
       "    margin-right: auto;\n",
       "    max-width: 100%;\n",
       "    height: auto;\n",
       "}\n",
       "\n",
       "div.cell {\n",
       "    margin-bottom: 30px;\n",
       "}\n",
       "\n",
       "#notebook-container {\n",
       "    padding: 60px;\n",
       "    background-color: #fff;\n",
       "    min-height: 0;\n",
       "    -webkit-box-shadow: 0px 0px 12px 1px rgba(87, 87, 87, 0.2);\n",
       "    box-shadow: 0px 0px 12px 1px rgba(87, 87, 87, 0.2);\n",
       "}\n",
       "</style>\n",
       "     "
      ],
      "text/plain": [
       "<IPython.core.display.HTML object>"
      ]
     },
     "metadata": {},
     "output_type": "display_data"
    }
   ],
   "source": [
    "%env ARTS_INCLUDE_PATH=/home/simonpf/src/arts/controlfiles/\n",
    "%env ARTS_DATA_PATH=/home/simonpf/src/arts_xml/\n",
    "%env ARTS_BUILD_PATH=/home/simonpf/build/arts/\n",
    "import sys\n",
    "sys.path.append(\"..\")\n",
    "sys.path.append(\"/home/simonpf/src/typhon/\")\n",
    "import utils.setup\n",
    "import numpy as np\n",
    "%matplotlib inline\n",
    "import matplotlib.pyplot as plt"
   ]
  },
  {
   "cell_type": "markdown",
   "metadata": {},
   "source": [
    "## Simulation Setup"
   ]
  },
  {
   "cell_type": "code",
   "execution_count": 47,
   "metadata": {},
   "outputs": [
    {
     "name": "stdout",
     "output_type": "stream",
     "text": [
      "ARTS[56579232]: Executing /home/simonpf/src/arts/controlfiles/general/general.arts\n",
      "ARTS[56579232]: {\n",
      "ARTS[56579232]: - verbosityInit\n",
      "ARTS[56579232]: - scat_speciesSet\n",
      "ARTS[56579232]: - MatrixSet\n",
      "ARTS[56579232]: - Tensor4SetConstant\n",
      "ARTS[56579232]: - ArrayOfStringSet\n",
      "ARTS[56579232]: - Touch\n",
      "ARTS[56579232]: - FlagOff\n",
      "ARTS[56579232]: - MatrixSet\n",
      "ARTS[56579232]: - NumericSet\n",
      "ARTS[56579232]: - ArrayOfStringSet\n",
      "ARTS[56579232]: - Tensor3SetConstant\n",
      "ARTS[56579232]: - Tensor3SetConstant\n",
      "ARTS[56579232]: - Tensor3SetConstant\n",
      "ARTS[56579232]: - Tensor3SetConstant\n",
      "ARTS[56579232]: - Tensor3SetConstant\n",
      "ARTS[56579232]: - Tensor3SetConstant\n",
      "ARTS[56579232]: - IndexSet\n",
      "ARTS[56579232]: - IndexSet\n",
      "ARTS[56579232]: - IndexSet\n",
      "ARTS[56579232]: - IndexSet\n",
      "ARTS[56579232]: - FlagOff\n",
      "ARTS[56579232]: - output_file_formatSetAscii\n",
      "ARTS[56579232]: - StringSet\n",
      "ARTS[56579232]: - IndexSet\n",
      "ARTS[56579232]: - abs_lineshapeDefine\n",
      "ARTS[56579232]: - NumericSet\n",
      "ARTS[56579232]: - NumericSet\n",
      "ARTS[56579232]: - AgendaSet\n",
      "ARTS[56579232]: - IndexSet\n",
      "ARTS[56579232]: - IndexSet\n",
      "ARTS[56579232]: - NumericSet\n",
      "ARTS[56579232]: - NumericSet\n",
      "ARTS[56579232]: - nlteOff\n",
      "ARTS[56579232]: - partition_functionsInitFromBuiltin\n",
      "ARTS[56579232]: - IndexSet\n",
      "ARTS[56579232]: }\n",
      "\n",
      "ARTS[56579232]: Executing /home/simonpf/src/arts/controlfiles/general/continua.arts\n",
      "ARTS[56579232]: {\n",
      "ARTS[56579232]: - abs_cont_descriptionInit\n",
      "ARTS[56579232]: - abs_cont_descriptionAppend\n",
      "ARTS[56579232]: - abs_cont_descriptionAppend\n",
      "ARTS[56579232]: - abs_cont_descriptionAppend\n",
      "ARTS[56579232]: - abs_cont_descriptionAppend\n",
      "ARTS[56579232]: - abs_cont_descriptionAppend\n",
      "ARTS[56579232]: - abs_cont_descriptionAppend\n",
      "ARTS[56579232]: - abs_cont_descriptionAppend\n",
      "ARTS[56579232]: - abs_cont_descriptionAppend\n",
      "ARTS[56579232]: - abs_cont_descriptionAppend\n",
      "ARTS[56579232]: - abs_cont_descriptionAppend\n",
      "ARTS[56579232]: - abs_cont_descriptionAppend\n",
      "ARTS[56579232]: - abs_cont_descriptionAppend\n",
      "ARTS[56579232]: - abs_cont_descriptionAppend\n",
      "ARTS[56579232]: - abs_cont_descriptionAppend\n",
      "ARTS[56579232]: - abs_cont_descriptionAppend\n",
      "ARTS[56579232]: - abs_cont_descriptionAppend\n",
      "ARTS[56579232]: - abs_cont_descriptionAppend\n",
      "ARTS[56579232]: - abs_cont_descriptionAppend\n",
      "ARTS[56579232]: - abs_cont_descriptionAppend\n",
      "ARTS[56579232]: - abs_cont_descriptionAppend\n",
      "ARTS[56579232]: - abs_cont_descriptionAppend\n",
      "ARTS[56579232]: - abs_cont_descriptionAppend\n",
      "ARTS[56579232]: - abs_cont_descriptionAppend\n",
      "ARTS[56579232]: - abs_cont_descriptionAppend\n",
      "ARTS[56579232]: - abs_cont_descriptionAppend\n",
      "ARTS[56579232]: - abs_cont_descriptionAppend\n",
      "ARTS[56579232]: - abs_cont_descriptionAppend\n",
      "ARTS[56579232]: - abs_cont_descriptionAppend\n",
      "ARTS[56579232]: - abs_cont_descriptionAppend\n",
      "ARTS[56579232]: - abs_cont_descriptionAppend\n",
      "ARTS[56579232]: - abs_cont_descriptionAppend\n",
      "ARTS[56579232]: - abs_cont_descriptionAppend\n",
      "ARTS[56579232]: - abs_cont_descriptionAppend\n",
      "ARTS[56579232]: - abs_cont_descriptionAppend\n",
      "ARTS[56579232]: - abs_cont_descriptionAppend\n",
      "ARTS[56579232]: - abs_cont_descriptionAppend\n",
      "ARTS[56579232]: - abs_cont_descriptionAppend\n",
      "ARTS[56579232]: - abs_cont_descriptionAppend\n",
      "ARTS[56579232]: - abs_cont_descriptionAppend\n",
      "ARTS[56579232]: - abs_cont_descriptionAppend\n",
      "ARTS[56579232]: - abs_cont_descriptionAppend\n",
      "ARTS[56579232]: - abs_cont_descriptionAppend\n",
      "ARTS[56579232]: - abs_cont_descriptionAppend\n",
      "ARTS[56579232]: - abs_cont_descriptionAppend\n",
      "ARTS[56579232]: - abs_cont_descriptionAppend\n",
      "ARTS[56579232]: - abs_cont_descriptionAppend\n",
      "ARTS[56579232]: - abs_cont_descriptionAppend\n",
      "ARTS[56579232]: - abs_cont_descriptionAppend\n",
      "ARTS[56579232]: - abs_cont_descriptionAppend\n",
      "ARTS[56579232]: - abs_cont_descriptionAppend\n",
      "ARTS[56579232]: - abs_cont_descriptionAppend\n",
      "ARTS[56579232]: - abs_cont_descriptionAppend\n",
      "ARTS[56579232]: - abs_cont_descriptionAppend\n",
      "ARTS[56579232]: - abs_cont_descriptionAppend\n",
      "ARTS[56579232]: - abs_cont_descriptionAppend\n",
      "ARTS[56579232]: - abs_cont_descriptionAppend\n",
      "ARTS[56579232]: }\n",
      "\n",
      "ARTS[56579232]: Executing /home/simonpf/src/arts/controlfiles/general/agendas.arts\n",
      "ARTS[56579232]: {\n",
      "ARTS[56579232]: - AgendaCreate\n",
      "ARTS[56579232]: - AgendaSet\n",
      "ARTS[56579232]: - AgendaCreate\n",
      "ARTS[56579232]: - AgendaSet\n",
      "ARTS[56579232]: - AgendaCreate\n",
      "ARTS[56579232]: - AgendaSet\n",
      "ARTS[56579232]: - AgendaCreate\n",
      "ARTS[56579232]: - AgendaSet\n",
      "ARTS[56579232]: - AgendaCreate\n",
      "ARTS[56579232]: - AgendaSet\n",
      "ARTS[56579232]: - AgendaCreate\n",
      "ARTS[56579232]: - AgendaSet\n",
      "ARTS[56579232]: - AgendaCreate\n",
      "ARTS[56579232]: - AgendaSet\n",
      "ARTS[56579232]: - AgendaCreate\n",
      "ARTS[56579232]: - AgendaSet\n",
      "ARTS[56579232]: - AgendaCreate\n",
      "ARTS[56579232]: - AgendaSet\n",
      "ARTS[56579232]: - AgendaCreate\n",
      "ARTS[56579232]: - AgendaSet\n",
      "ARTS[56579232]: - AgendaCreate\n",
      "ARTS[56579232]: - AgendaSet\n",
      "ARTS[56579232]: - AgendaCreate\n",
      "ARTS[56579232]: - AgendaSet\n",
      "ARTS[56579232]: - AgendaCreate\n",
      "ARTS[56579232]: - AgendaSet\n",
      "ARTS[56579232]: - AgendaCreate\n",
      "ARTS[56579232]: - AgendaSet\n",
      "ARTS[56579232]: - AgendaCreate\n",
      "ARTS[56579232]: - AgendaSet\n",
      "ARTS[56579232]: - AgendaCreate\n",
      "ARTS[56579232]: - AgendaSet\n",
      "ARTS[56579232]: - AgendaCreate\n",
      "ARTS[56579232]: - AgendaSet\n",
      "ARTS[56579232]: - FlagOff\n",
      "ARTS[56579232]: - AgendaCreate\n",
      "ARTS[56579232]: - AgendaSet\n",
      "ARTS[56579232]: - AgendaCreate\n",
      "ARTS[56579232]: - AgendaSet\n",
      "ARTS[56579232]: - AgendaCreate\n",
      "ARTS[56579232]: - AgendaSet\n",
      "ARTS[56579232]: - AgendaCreate\n",
      "ARTS[56579232]: - AgendaSet\n",
      "ARTS[56579232]: - AgendaCreate\n",
      "ARTS[56579232]: - AgendaSet\n",
      "ARTS[56579232]: - AgendaCreate\n",
      "ARTS[56579232]: - AgendaSet\n",
      "ARTS[56579232]: - FlagOff\n",
      "ARTS[56579232]: - AgendaCreate\n",
      "ARTS[56579232]: - AgendaSet\n",
      "ARTS[56579232]: - AgendaCreate\n",
      "ARTS[56579232]: - AgendaSet\n",
      "ARTS[56579232]: - AgendaCreate\n",
      "ARTS[56579232]: - AgendaSet\n",
      "ARTS[56579232]: - AgendaCreate\n",
      "ARTS[56579232]: - AgendaSet\n",
      "ARTS[56579232]: - AgendaCreate\n",
      "ARTS[56579232]: - AgendaSet\n",
      "ARTS[56579232]: - AgendaCreate\n",
      "ARTS[56579232]: - AgendaSet\n",
      "ARTS[56579232]: - AgendaCreate\n",
      "ARTS[56579232]: - AgendaSet\n",
      "ARTS[56579232]: - AgendaCreate\n",
      "ARTS[56579232]: - AgendaSet\n",
      "ARTS[56579232]: - AgendaCreate\n",
      "ARTS[56579232]: - AgendaSet\n",
      "ARTS[56579232]: - AgendaCreate\n",
      "ARTS[56579232]: - AgendaSet\n",
      "ARTS[56579232]: - AgendaCreate\n",
      "ARTS[56579232]: - AgendaSet\n",
      "ARTS[56579232]: - AgendaCreate\n",
      "ARTS[56579232]: - AgendaSet\n",
      "ARTS[56579232]: - AgendaCreate\n",
      "ARTS[56579232]: - AgendaSet\n",
      "ARTS[56579232]: - AgendaCreate\n",
      "ARTS[56579232]: - AgendaSet\n",
      "ARTS[56579232]: - AgendaCreate\n",
      "ARTS[56579232]: - AgendaSet\n",
      "ARTS[56579232]: - AgendaCreate\n",
      "ARTS[56579232]: - AgendaSet\n",
      "ARTS[56579232]: - AgendaCreate\n",
      "ARTS[56579232]: - AgendaSet\n",
      "ARTS[56579232]: }\n",
      "\n",
      "ARTS[56579232]: Executing /home/simonpf/src/arts/controlfiles/general/planet_earth.arts\n",
      "ARTS[56579232]: {\n",
      "ARTS[56579232]: - isotopologue_ratiosInitFromBuiltin\n",
      "ARTS[56579232]: - refellipsoidEarth\n",
      "ARTS[56579232]: - NumericSet\n",
      "ARTS[56579232]: - AgendaSet\n",
      "ARTS[56579232]: - NumericSet\n",
      "ARTS[56579232]: }\n",
      "\n"
     ]
    }
   ],
   "source": [
    "from typhon.arts.workspace import Workspace\n",
    "\n",
    "ws = Workspace()\n",
    "ws.execute_controlfile(\"general/general.arts\")\n",
    "ws.execute_controlfile(\"general/continua.arts\")\n",
    "ws.execute_controlfile(\"general/agendas.arts\")\n",
    "ws.execute_controlfile(\"general/planet_earth.arts\")"
   ]
  },
  {
   "cell_type": "code",
   "execution_count": 48,
   "metadata": {
    "collapsed": true
   },
   "outputs": [],
   "source": [
    "ws.Copy(ws.abs_xsec_agenda, ws.abs_xsec_agenda__noCIA )\n",
    "ws.Copy( ws.iy_main_agenda, ws.iy_main_agenda__Emission )\n",
    "ws.Copy( ws.iy_space_agenda, ws.iy_space_agenda__CosmicBackground )\n",
    "ws.Copy( ws.iy_surface_agenda, ws.iy_surface_agenda__UseSurfaceRtprop )\n",
    "ws.Copy( ws.propmat_clearsky_agenda, ws.propmat_clearsky_agenda__OnTheFly )\n",
    "ws.Copy( ws.ppath_agenda, ws.ppath_agenda__FollowSensorLosPath )\n",
    "ws.Copy( ws.ppath_step_agenda, ws.ppath_step_agenda__GeometricPath )"
   ]
  },
  {
   "cell_type": "code",
   "execution_count": 49,
   "metadata": {
    "collapsed": true
   },
   "outputs": [],
   "source": [
    "ws.stokes_dim = 2\n",
    "ws.cloudboxOff()\n",
    "ws.jacobianOff()"
   ]
  },
  {
   "cell_type": "code",
   "execution_count": 50,
   "metadata": {
    "collapsed": true
   },
   "outputs": [],
   "source": [
    "ws.VectorNLogSpace( ws.p_grid, 200, 1013e2, 10.0 )\n",
    "ws.abs_speciesSet( species=[\"N2\", \"O2\", \"H2O\"] )\n",
    "# Read a line file and a matching small frequency grid\n",
    "ws.abs_linesReadFromSplitArtscat(\n",
    "    ws.abs_species,\n",
    "    \"spectroscopy/Perrin/\",\n",
    "    10e9,\n",
    "    250e9\n",
    "    )\n",
    "# Sort the line file according to species\n",
    "ws.abs_lines_per_speciesCreateFromLines()"
   ]
  },
  {
   "cell_type": "code",
   "execution_count": 51,
   "metadata": {
    "collapsed": true
   },
   "outputs": [],
   "source": [
    "from typhon.arts.workspace.variables import *\n",
    "\n",
    "ws.VectorNLogSpace( ws.p_grid, 200, 1013e2, 10.0 )\n",
    "# Atmospheric scenario\n",
    "ws.AtmRawRead( basename=\"planets/Earth/Fascod/midlatitude-summer/midlatitude-summer\" )\n",
    "\n",
    "# Create a frequency grid\n",
    "ws.VectorNLinSpace( f_grid, 1000, 10e+9, 250e+9 )\n",
    "# No sensor properties\n",
    "ws.sensorOff()\n",
    "# We select here to use Planck brightness temperatures\n",
    "ws.StringSet( iy_unit, \"PlanckBT\" )\n",
    "# Extract optical depth as auxiliary variables\n",
    "ws.ArrayOfStringSet( iy_aux_vars, [ \"Optical depth\"] )\n",
    "# Create vector container for the optical depth\n",
    "odepth = ws.VectorCreate()"
   ]
  },
  {
   "cell_type": "code",
   "execution_count": 52,
   "metadata": {
    "collapsed": true
   },
   "outputs": [],
   "source": [
    "import numpy as np\n",
    "# Atmosphere and surface\n",
    "ws.AtmosphereSet1D()\n",
    "ws.AtmFieldsCalc()\n",
    "ws.Extract( ws.z_surface, ws.z_field, 0 )\n",
    "ws.Extract( ws.t_surface, ws.t_field, 0 )\n",
    "\n",
    "# Definition of sensor position and line of sight (LOS)\n",
    "ws.MatrixSet( ws.sensor_pos, np.array([[180.0]])) # 10e3 for sensor in z = 10 km\n",
    "ws.MatrixSet( ws.sensor_los, np.array([[180.0]])) # zenith angle: 0 looking up, 180 looking nadir\n",
    "\n",
    "# Perform RT calculations\n",
    "ws.abs_xsec_agenda_checkedCalc()\n",
    "ws.propmat_clearsky_agenda_checkedCalc()\n",
    "ws.atmfields_checkedCalc()\n",
    "ws.atmgeom_checkedCalc()\n",
    "ws.cloudbox_checkedCalc()\n",
    "ws.sensor_checkedCalc()"
   ]
  },
  {
   "cell_type": "markdown",
   "metadata": {},
   "source": [
    "## Surface Agendas"
   ]
  },
  {
   "cell_type": "code",
   "execution_count": 53,
   "metadata": {
    "collapsed": true
   },
   "outputs": [],
   "source": [
    "import numpy as np\n",
    "from typhon.arts.workspace import arts_agenda\n",
    "\n",
    "ws.NumericCreate(\"wind_speed\")\n",
    "ws.NumericCreate(\"wind_direction\")\n",
    "ws.VectorCreate(\"transmittance\")\n",
    "ws.wind_speed     = 0.0\n",
    "ws.wind_direction = 0.0\n",
    "ws.transmittance  = 0.1 * np.ones(ws.f_grid.value.shape)\n",
    "\n",
    "@arts_agenda\n",
    "def surface_fastem(ws):\n",
    "    ws.Print(\"bla\", 3)\n",
    "    ws.specular_losCalc()\n",
    "    ws.InterpSurfaceFieldToPosition( out = ws.surface_skin_t, field = ws.t_surface )\n",
    "    ws.surfaceFastem(wind_speed     = ws.wind_speed,\n",
    "                     wind_direction = ws.wind_direction,\n",
    "                     transmittance  = ws.transmittance)\n",
    "    \n",
    "@arts_agenda\n",
    "def surface_tessem(ws):\n",
    "    ws.specular_losCalc()\n",
    "    ws.InterpSurfaceFieldToPosition( out = ws.surface_skin_t, field = ws.t_surface )\n",
    "    ws.surfaceTessem(wind_speed     = ws.wind_speed)"
   ]
  },
  {
   "cell_type": "markdown",
   "metadata": {},
   "source": [
    "### Fastem Calculations"
   ]
  },
  {
   "cell_type": "code",
   "execution_count": 54,
   "metadata": {
    "collapsed": true
   },
   "outputs": [],
   "source": [
    "ws.Copy(ws.surface_rtprop_agenda, surface_fastem)\n",
    "ws.yCalc()\n",
    "y_fastem = np.copy(ws.y)"
   ]
  },
  {
   "cell_type": "markdown",
   "metadata": {},
   "source": [
    "### Tessem Calculations"
   ]
  },
  {
   "cell_type": "code",
   "execution_count": 55,
   "metadata": {
    "collapsed": true
   },
   "outputs": [],
   "source": [
    "ws.TessemNNReadAscii(tessem_neth, \"testdata/tessem_sav_net_H.txt\")\n",
    "ws.TessemNNReadAscii(tessem_netv, \"testdata/tessem_sav_net_V.txt\")\n",
    "\n",
    "ws.Copy(ws.surface_rtprop_agenda, surface_tessem)\n",
    "ws.yCalc()\n",
    "y_tessem = np.copy(ws.y)"
   ]
  },
  {
   "cell_type": "markdown",
   "metadata": {},
   "source": [
    "## Results"
   ]
  },
  {
   "cell_type": "code",
   "execution_count": 56,
   "metadata": {},
   "outputs": [
    {
     "data": {
      "text/plain": [
       "(array([ 111.83841995,    0.46465827,  112.03800338, ...,    1.01249925,\n",
       "         227.48870611,    1.00814075]),\n",
       " array([  6.81012259,   0.04842756,   6.82598278, ...,   0.28880399,\n",
       "         18.87421898,   0.28786066]))"
      ]
     },
     "execution_count": 56,
     "metadata": {},
     "output_type": "execute_result"
    }
   ],
   "source": [
    "y_fastem, y_tessem"
   ]
  },
  {
   "cell_type": "code",
   "execution_count": 58,
   "metadata": {},
   "outputs": [
    {
     "data": {
      "text/plain": [
       "<matplotlib.legend.Legend at 0x7f71deb4bef0>"
      ]
     },
     "execution_count": 58,
     "metadata": {},
     "output_type": "execute_result"
    },
    {
     "data": {
      "image/png": "[encoded data removed]",
      "text/plain": [
       "<matplotlib.figure.Figure at 0x7f71dec93b70>"
      ]
     },
     "metadata": {},
     "output_type": "display_data"
    }
   ],
   "source": [
    "%matplotlib inline\n",
    "import matplotlib.pyplot as plt\n",
    "plt.plot(ws.f_grid.value, y_fastem[0::2], c = \"C0\", ls = \"-\", label=\"fastem\")\n",
    "plt.plot(ws.f_grid.value, y_tessem[0::2], c = \"C1\", ls = \"-\", label=\"tessem\")\n",
    "plt.legend()"
   ]
  }
 ],
 "metadata": {
  "kernelspec": {
   "display_name": "Python 3",
   "language": "python",
   "name": "python3"
  },
  "language_info": {
   "codemirror_mode": {
    "name": "ipython",
    "version": 3
   },
   "file_extension": ".py",
   "mimetype": "text/x-python",
   "name": "python",
   "nbconvert_exporter": "python",
   "pygments_lexer": "ipython3",
   "version": "3.6.1"
  }
 },
 "nbformat": 4,
 "nbformat_minor": 2
}
