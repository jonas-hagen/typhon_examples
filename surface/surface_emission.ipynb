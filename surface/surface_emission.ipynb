{
 "cells": [
  {
   "cell_type": "markdown",
   "metadata": {},
   "source": [
    "# Microwave Ocean Surface Emission with ARTS\n",
    "\n",
    "This notebook demonstrates how to use the TELSEM and FASTEM interfaces in ARTS to include microwave surface emission in radiative transfer calculations."
   ]
  },
  {
   "cell_type": "code",
   "execution_count": 1,
   "metadata": {},
   "outputs": [
    {
     "name": "stdout",
     "output_type": "stream",
     "text": [
      "env: ARTS_INCLUDE_PATH=/home/simonpf/src/arts/controlfiles/\n",
      "env: ARTS_DATA_PATH=/home/simonpf/src/arts_xml/\n",
      "env: ARTS_BUILD_PATH=/home/simonpf/build/arts/\n",
      "Loading ARTS API from: /home/simonpf/build/arts/src/libarts_api.so\n"
     ]
    }
   ],
   "source": [
    "%env ARTS_INCLUDE_PATH=/home/simonpf/src/arts/controlfiles/\n",
    "%env ARTS_DATA_PATH=/home/simonpf/src/arts_xml/\n",
    "%env ARTS_BUILD_PATH=/home/simonpf/build/arts/\n",
    "\n",
    "from typhon.arts.workspace import Workspace"
   ]
  },
  {
   "cell_type": "markdown",
   "metadata": {},
   "source": [
    "## Simulation Setup"
   ]
  },
  {
   "cell_type": "code",
   "execution_count": 2,
   "metadata": {},
   "outputs": [
    {
     "name": "stdout",
     "output_type": "stream",
     "text": [
      "ARTS[37898064]: Executing /home/simonpf/src/arts/controlfiles/general/general.arts\n",
      "ARTS[37898064]: {\n",
      "ARTS[37898064]: - verbosityInit\n",
      "ARTS[37898064]: - scat_speciesSet\n",
      "ARTS[37898064]: - MatrixSet\n",
      "ARTS[37898064]: - Tensor4SetConstant\n",
      "ARTS[37898064]: - ArrayOfStringSet\n",
      "ARTS[37898064]: - Touch\n",
      "ARTS[37898064]: - FlagOff\n",
      "ARTS[37898064]: - MatrixSet\n",
      "ARTS[37898064]: - NumericSet\n",
      "ARTS[37898064]: - ArrayOfStringSet\n",
      "ARTS[37898064]: - Tensor3SetConstant\n",
      "ARTS[37898064]: - Tensor3SetConstant\n",
      "ARTS[37898064]: - Tensor3SetConstant\n",
      "ARTS[37898064]: - Tensor3SetConstant\n",
      "ARTS[37898064]: - Tensor3SetConstant\n",
      "ARTS[37898064]: - Tensor3SetConstant\n",
      "ARTS[37898064]: - IndexSet\n",
      "ARTS[37898064]: - IndexSet\n",
      "ARTS[37898064]: - IndexSet\n",
      "ARTS[37898064]: - IndexSet\n",
      "ARTS[37898064]: - FlagOff\n",
      "ARTS[37898064]: - output_file_formatSetAscii\n",
      "ARTS[37898064]: - StringSet\n",
      "ARTS[37898064]: - IndexSet\n",
      "ARTS[37898064]: - abs_lineshapeDefine\n",
      "ARTS[37898064]: - NumericSet\n",
      "ARTS[37898064]: - NumericSet\n",
      "ARTS[37898064]: - AgendaSet\n",
      "ARTS[37898064]: - IndexSet\n",
      "ARTS[37898064]: - IndexSet\n",
      "ARTS[37898064]: - NumericSet\n",
      "ARTS[37898064]: - NumericSet\n",
      "ARTS[37898064]: - nlteOff\n",
      "ARTS[37898064]: - partition_functionsInitFromBuiltin\n",
      "ARTS[37898064]: - IndexSet\n",
      "ARTS[37898064]: }\n",
      "\n",
      "ARTS[37898064]: Executing /home/simonpf/src/arts/controlfiles/general/continua.arts\n",
      "ARTS[37898064]: {\n",
      "ARTS[37898064]: - abs_cont_descriptionInit\n",
      "ARTS[37898064]: - abs_cont_descriptionAppend\n",
      "ARTS[37898064]: - abs_cont_descriptionAppend\n",
      "ARTS[37898064]: - abs_cont_descriptionAppend\n",
      "ARTS[37898064]: - abs_cont_descriptionAppend\n",
      "ARTS[37898064]: - abs_cont_descriptionAppend\n",
      "ARTS[37898064]: - abs_cont_descriptionAppend\n",
      "ARTS[37898064]: - abs_cont_descriptionAppend\n",
      "ARTS[37898064]: - abs_cont_descriptionAppend\n",
      "ARTS[37898064]: - abs_cont_descriptionAppend\n",
      "ARTS[37898064]: - abs_cont_descriptionAppend\n",
      "ARTS[37898064]: - abs_cont_descriptionAppend\n",
      "ARTS[37898064]: - abs_cont_descriptionAppend\n",
      "ARTS[37898064]: - abs_cont_descriptionAppend\n",
      "ARTS[37898064]: - abs_cont_descriptionAppend\n",
      "ARTS[37898064]: - abs_cont_descriptionAppend\n",
      "ARTS[37898064]: - abs_cont_descriptionAppend\n",
      "ARTS[37898064]: - abs_cont_descriptionAppend\n",
      "ARTS[37898064]: - abs_cont_descriptionAppend\n",
      "ARTS[37898064]: - abs_cont_descriptionAppend\n",
      "ARTS[37898064]: - abs_cont_descriptionAppend\n",
      "ARTS[37898064]: - abs_cont_descriptionAppend\n",
      "ARTS[37898064]: - abs_cont_descriptionAppend\n",
      "ARTS[37898064]: - abs_cont_descriptionAppend\n",
      "ARTS[37898064]: - abs_cont_descriptionAppend\n",
      "ARTS[37898064]: - abs_cont_descriptionAppend\n",
      "ARTS[37898064]: - abs_cont_descriptionAppend\n",
      "ARTS[37898064]: - abs_cont_descriptionAppend\n",
      "ARTS[37898064]: - abs_cont_descriptionAppend\n",
      "ARTS[37898064]: - abs_cont_descriptionAppend\n",
      "ARTS[37898064]: - abs_cont_descriptionAppend\n",
      "ARTS[37898064]: - abs_cont_descriptionAppend\n",
      "ARTS[37898064]: - abs_cont_descriptionAppend\n",
      "ARTS[37898064]: - abs_cont_descriptionAppend\n",
      "ARTS[37898064]: - abs_cont_descriptionAppend\n",
      "ARTS[37898064]: - abs_cont_descriptionAppend\n",
      "ARTS[37898064]: - abs_cont_descriptionAppend\n",
      "ARTS[37898064]: - abs_cont_descriptionAppend\n",
      "ARTS[37898064]: - abs_cont_descriptionAppend\n",
      "ARTS[37898064]: - abs_cont_descriptionAppend\n",
      "ARTS[37898064]: - abs_cont_descriptionAppend\n",
      "ARTS[37898064]: - abs_cont_descriptionAppend\n",
      "ARTS[37898064]: - abs_cont_descriptionAppend\n",
      "ARTS[37898064]: - abs_cont_descriptionAppend\n",
      "ARTS[37898064]: - abs_cont_descriptionAppend\n",
      "ARTS[37898064]: - abs_cont_descriptionAppend\n",
      "ARTS[37898064]: - abs_cont_descriptionAppend\n",
      "ARTS[37898064]: - abs_cont_descriptionAppend\n",
      "ARTS[37898064]: - abs_cont_descriptionAppend\n",
      "ARTS[37898064]: - abs_cont_descriptionAppend\n",
      "ARTS[37898064]: - abs_cont_descriptionAppend\n",
      "ARTS[37898064]: - abs_cont_descriptionAppend\n",
      "ARTS[37898064]: - abs_cont_descriptionAppend\n",
      "ARTS[37898064]: - abs_cont_descriptionAppend\n",
      "ARTS[37898064]: - abs_cont_descriptionAppend\n",
      "ARTS[37898064]: - abs_cont_descriptionAppend\n",
      "ARTS[37898064]: - abs_cont_descriptionAppend\n",
      "ARTS[37898064]: }\n",
      "\n",
      "ARTS[37898064]: Executing /home/simonpf/src/arts/controlfiles/general/agendas.arts\n",
      "ARTS[37898064]: {\n",
      "ARTS[37898064]: - AgendaCreate\n",
      "ARTS[37898064]: - AgendaSet\n",
      "ARTS[37898064]: - AgendaCreate\n",
      "ARTS[37898064]: - AgendaSet\n",
      "ARTS[37898064]: - AgendaCreate\n",
      "ARTS[37898064]: - AgendaSet\n",
      "ARTS[37898064]: - AgendaCreate\n",
      "ARTS[37898064]: - AgendaSet\n",
      "ARTS[37898064]: - AgendaCreate\n",
      "ARTS[37898064]: - AgendaSet\n",
      "ARTS[37898064]: - AgendaCreate\n",
      "ARTS[37898064]: - AgendaSet\n",
      "ARTS[37898064]: - AgendaCreate\n",
      "ARTS[37898064]: - AgendaSet\n",
      "ARTS[37898064]: - AgendaCreate\n",
      "ARTS[37898064]: - AgendaSet\n",
      "ARTS[37898064]: - AgendaCreate\n",
      "ARTS[37898064]: - AgendaSet\n",
      "ARTS[37898064]: - AgendaCreate\n",
      "ARTS[37898064]: - AgendaSet\n",
      "ARTS[37898064]: - AgendaCreate\n",
      "ARTS[37898064]: - AgendaSet\n",
      "ARTS[37898064]: - AgendaCreate\n",
      "ARTS[37898064]: - AgendaSet\n",
      "ARTS[37898064]: - AgendaCreate\n",
      "ARTS[37898064]: - AgendaSet\n",
      "ARTS[37898064]: - AgendaCreate\n",
      "ARTS[37898064]: - AgendaSet\n",
      "ARTS[37898064]: - AgendaCreate\n",
      "ARTS[37898064]: - AgendaSet\n",
      "ARTS[37898064]: - AgendaCreate\n",
      "ARTS[37898064]: - AgendaSet\n",
      "ARTS[37898064]: - AgendaCreate\n",
      "ARTS[37898064]: - AgendaSet\n",
      "ARTS[37898064]: - FlagOff\n",
      "ARTS[37898064]: - AgendaCreate\n",
      "ARTS[37898064]: - AgendaSet\n",
      "ARTS[37898064]: - AgendaCreate\n",
      "ARTS[37898064]: - AgendaSet\n",
      "ARTS[37898064]: - AgendaCreate\n",
      "ARTS[37898064]: - AgendaSet\n",
      "ARTS[37898064]: - AgendaCreate\n",
      "ARTS[37898064]: - AgendaSet\n",
      "ARTS[37898064]: - AgendaCreate\n",
      "ARTS[37898064]: - AgendaSet\n",
      "ARTS[37898064]: - AgendaCreate\n",
      "ARTS[37898064]: - AgendaSet\n",
      "ARTS[37898064]: - FlagOff\n",
      "ARTS[37898064]: - AgendaCreate\n",
      "ARTS[37898064]: - AgendaSet\n",
      "ARTS[37898064]: - AgendaCreate\n",
      "ARTS[37898064]: - AgendaSet\n",
      "ARTS[37898064]: - AgendaCreate\n",
      "ARTS[37898064]: - AgendaSet\n",
      "ARTS[37898064]: - AgendaCreate\n",
      "ARTS[37898064]: - AgendaSet\n",
      "ARTS[37898064]: - AgendaCreate\n",
      "ARTS[37898064]: - AgendaSet\n",
      "ARTS[37898064]: - AgendaCreate\n",
      "ARTS[37898064]: - AgendaSet\n",
      "ARTS[37898064]: - AgendaCreate\n",
      "ARTS[37898064]: - AgendaSet\n",
      "ARTS[37898064]: - AgendaCreate\n",
      "ARTS[37898064]: - AgendaSet\n",
      "ARTS[37898064]: - AgendaCreate\n",
      "ARTS[37898064]: - AgendaSet\n",
      "ARTS[37898064]: - AgendaCreate\n",
      "ARTS[37898064]: - AgendaSet\n",
      "ARTS[37898064]: - AgendaCreate\n",
      "ARTS[37898064]: - AgendaSet\n",
      "ARTS[37898064]: - AgendaCreate\n",
      "ARTS[37898064]: - AgendaSet\n",
      "ARTS[37898064]: - AgendaCreate\n",
      "ARTS[37898064]: - AgendaSet\n",
      "ARTS[37898064]: - AgendaCreate\n",
      "ARTS[37898064]: - AgendaSet\n",
      "ARTS[37898064]: - AgendaCreate\n",
      "ARTS[37898064]: - AgendaSet\n",
      "ARTS[37898064]: - AgendaCreate\n",
      "ARTS[37898064]: - AgendaSet\n",
      "ARTS[37898064]: - AgendaCreate\n",
      "ARTS[37898064]: - AgendaSet\n",
      "ARTS[37898064]: }\n",
      "\n",
      "ARTS[37898064]: Executing /home/simonpf/src/arts/controlfiles/general/planet_earth.arts\n",
      "ARTS[37898064]: {\n",
      "ARTS[37898064]: - isotopologue_ratiosInitFromBuiltin\n",
      "ARTS[37898064]: - refellipsoidEarth\n",
      "ARTS[37898064]: - NumericSet\n",
      "ARTS[37898064]: - AgendaSet\n",
      "ARTS[37898064]: - NumericSet\n",
      "ARTS[37898064]: }\n",
      "\n"
     ]
    }
   ],
   "source": [
    "ws = Workspace()\n",
    "ws.execute_controlfile(\"general/general.arts\")\n",
    "ws.execute_controlfile(\"general/continua.arts\")\n",
    "ws.execute_controlfile(\"general/agendas.arts\")\n",
    "ws.execute_controlfile(\"general/planet_earth.arts\")"
   ]
  },
  {
   "cell_type": "code",
   "execution_count": 3,
   "metadata": {},
   "outputs": [],
   "source": [
    "ws.Copy(ws.abs_xsec_agenda, ws.abs_xsec_agenda__noCIA )\n",
    "ws.Copy( ws.iy_main_agenda, ws.iy_main_agenda__Emission )\n",
    "ws.Copy( ws.iy_space_agenda, ws.iy_space_agenda__CosmicBackground )\n",
    "ws.Copy( ws.iy_surface_agenda, ws.iy_surface_agenda__UseSurfaceRtprop )\n",
    "ws.Copy( ws.propmat_clearsky_agenda, ws.propmat_clearsky_agenda__OnTheFly )\n",
    "ws.Copy( ws.ppath_agenda, ws.ppath_agenda__FollowSensorLosPath )\n",
    "ws.Copy( ws.ppath_step_agenda, ws.ppath_step_agenda__GeometricPath )"
   ]
  },
  {
   "cell_type": "code",
   "execution_count": 4,
   "metadata": {},
   "outputs": [],
   "source": [
    "ws.stokes_dim = 2\n",
    "ws.cloudboxOff()\n",
    "ws.jacobianOff()"
   ]
  },
  {
   "cell_type": "code",
   "execution_count": 5,
   "metadata": {},
   "outputs": [],
   "source": [
    "ws.VectorNLogSpace( ws.p_grid, 200, 1013e2, 10.0 )\n",
    "ws.abs_speciesSet( species=[\"N2\", \"O2\", \"H2O\"] )\n",
    "# Read a line file and a matching small frequency grid\n",
    "ws.abs_linesReadFromSplitArtscat(\n",
    "    ws.abs_species,\n",
    "    \"spectroscopy/Perrin/\",\n",
    "    10e9,\n",
    "    250e9\n",
    "    )\n",
    "# Sort the line file according to species\n",
    "ws.abs_lines_per_speciesCreateFromLines()"
   ]
  },
  {
   "cell_type": "code",
   "execution_count": 6,
   "metadata": {},
   "outputs": [],
   "source": [
    "from typhon.arts.workspace.variables import *\n",
    "\n",
    "ws.VectorNLogSpace( ws.p_grid, 200, 1013e2, 10.0 )\n",
    "# Atmospheric scenario\n",
    "ws.AtmRawRead( basename=\"planets/Earth/Fascod/midlatitude-summer/midlatitude-summer\" )\n",
    "\n",
    "# Create a frequency grid\n",
    "ws.VectorNLinSpace( f_grid, 1000, 10e+9, 250e+9 )\n",
    "# No sensor properties\n",
    "ws.sensorOff()\n",
    "# We select here to use Planck brightness temperatures\n",
    "ws.StringSet( iy_unit, \"PlanckBT\" )\n",
    "# Extract optical depth as auxiliary variables\n",
    "ws.ArrayOfStringSet( iy_aux_vars, [ \"Optical depth\"] )\n",
    "# Create vector container for the optical depth\n",
    "odepth = ws.VectorCreate()\n"
   ]
  },
  {
   "cell_type": "code",
   "execution_count": 7,
   "metadata": {},
   "outputs": [],
   "source": [
    "import numpy as np\n",
    "# Atmosphere and surface\n",
    "ws.AtmosphereSet1D()\n",
    "ws.AtmFieldsCalc()\n",
    "ws.Extract( ws.z_surface, ws.z_field, 0 )\n",
    "ws.Extract( ws.t_surface, ws.t_field, 0 )\n",
    "\n",
    "# Definition of sensor position and line of sight (LOS)\n",
    "ws.MatrixSet( ws.sensor_pos, np.array([[180.0]])) # 10e3 for sensor in z = 10 km\n",
    "ws.MatrixSet( ws.sensor_los, np.array([[180.0]])) # zenith angle: 0 looking up, 180 looking nadir\n",
    "\n",
    "# Perform RT calculations\n",
    "ws.abs_xsec_agenda_checkedCalc()\n",
    "ws.propmat_clearsky_agenda_checkedCalc()\n",
    "ws.atmfields_checkedCalc()\n",
    "ws.atmgeom_checkedCalc()\n",
    "ws.cloudbox_checkedCalc()\n",
    "ws.sensor_checkedCalc()"
   ]
  },
  {
   "cell_type": "markdown",
   "metadata": {},
   "source": [
    "## Surface Agendas"
   ]
  },
  {
   "cell_type": "code",
   "execution_count": 16,
   "metadata": {},
   "outputs": [],
   "source": [
    "import numpy as np\n",
    "from typhon.arts.workspace import arts_agenda\n",
    "\n",
    "ws.NumericCreate(\"wind_speed\")\n",
    "ws.NumericCreate(\"wind_direction\")\n",
    "ws.VectorCreate(\"transmittance\")\n",
    "ws.wind_speed     = 0.0\n",
    "ws.wind_direction = 0.0\n",
    "ws.transmittance  = np.ones(ws.f_grid.value.shape)\n",
    "\n",
    "@arts_agenda\n",
    "def surface_fastem(ws):\n",
    "    ws.Print(\"bla\", 0)\n",
    "    ws.specular_losCalc()\n",
    "    ws.InterpSurfaceFieldToPosition( out = ws.surface_skin_t, field = ws.t_surface )\n",
    "    ws.surfaceFastem(wind_speed     = ws.wind_speed,\n",
    "                     wind_direction = ws.wind_direction,\n",
    "                     transmittance  = ws.transmittance)\n",
    "    \n",
    "@arts_agenda\n",
    "def surface_tessem(ws):\n",
    "    ws.specular_losCalc()\n",
    "    ws.InterpSurfaceFieldToPosition( out = ws.surface_skin_t, field = ws.t_surface )\n",
    "    ws.surfaceTessem(wind_speed     = ws.wind_speed)"
   ]
  },
  {
   "cell_type": "markdown",
   "metadata": {},
   "source": [
    "### Fastem Calculations"
   ]
  },
  {
   "cell_type": "code",
   "execution_count": 17,
   "metadata": {},
   "outputs": [],
   "source": [
    "ws.Copy(ws.surface_rtprop_agenda, surface_fastem)\n",
    "ws.yCalc()\n",
    "y_fastem = np.copy(ws.y)"
   ]
  },
  {
   "cell_type": "markdown",
   "metadata": {},
   "source": [
    "### Tessem Calculations"
   ]
  },
  {
   "cell_type": "code",
   "execution_count": 13,
   "metadata": {},
   "outputs": [],
   "source": [
    "ws.TessemNNReadAscii(tessem_neth, \"testdata/tessem_sav_net_H.txt\")\n",
    "ws.TessemNNReadAscii(tessem_netv, \"testdata/tessem_sav_net_V.txt\")\n",
    "\n",
    "ws.Copy(ws.surface_rtprop_agenda, surface_tessem)\n",
    "ws.yCalc()\n",
    "y_tessem = np.copy(ws.y)"
   ]
  },
  {
   "cell_type": "markdown",
   "metadata": {},
   "source": [
    "## Results"
   ]
  },
  {
   "cell_type": "code",
   "execution_count": 18,
   "metadata": {},
   "outputs": [
    {
     "data": {
      "text/plain": [
       "<matplotlib.legend.Legend at 0x7f1a8201d400>"
      ]
     },
     "execution_count": 18,
     "metadata": {},
     "output_type": "execute_result"
    },
    {
     "data": {
      "image/png": "[encoded data removed]",
      "text/plain": [
       "<matplotlib.figure.Figure at 0x7f1a83fd7198>"
      ]
     },
     "metadata": {},
     "output_type": "display_data"
    }
   ],
   "source": [
    "%matplotlib inline\n",
    "import matplotlib.pyplot as plt\n",
    "plt.plot(ws.f_grid.value, y_fastem[0::2], label=\"fastem\")\n",
    "plt.plot(ws.f_grid.value, y_tessem[0::2], label=\"tessem\")\n",
    "plt.legend()"
   ]
  },
  {
   "cell_type": "code",
   "execution_count": 15,
   "metadata": {},
   "outputs": [
    {
     "data": {
      "text/plain": [
       "array([[ 294.2]])"
      ]
     },
     "execution_count": 15,
     "metadata": {},
     "output_type": "execute_result"
    }
   ],
   "source": []
  },
  {
   "cell_type": "code",
   "execution_count": null,
   "metadata": {
    "collapsed": true
   },
   "outputs": [],
   "source": []
  }
 ],
 "metadata": {
  "kernelspec": {
   "display_name": "Python 3",
   "language": "python",
   "name": "python3"
  },
  "language_info": {
   "codemirror_mode": {
    "name": "ipython",
    "version": 3
   },
   "file_extension": ".py",
   "mimetype": "text/x-python",
   "name": "python",
   "nbconvert_exporter": "python",
   "pygments_lexer": "ipython3",
   "version": "3.6.1"
  }
 },
 "nbformat": 4,
 "nbformat_minor": 2
}
