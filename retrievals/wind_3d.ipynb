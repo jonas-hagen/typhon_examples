{
 "cells": [
  {
   "cell_type": "markdown",
   "metadata": {},
   "source": [
    "# 3D Wind Retrievals"
   ]
  },
  {
   "cell_type": "code",
   "execution_count": 23,
   "metadata": {},
   "outputs": [
    {
     "name": "stdout",
     "output_type": "stream",
     "text": [
      "env: ARTS_INCLUDE_PATH=/home/simon/src/arts_clean/controlfiles/\n",
      "env: ARTS_DATA_PATH=/home/simon/src/arts_xml/\n",
      "env: ARTS_BUILD_PATH=/home/simon/build/arts_production/arts\n"
     ]
    }
   ],
   "source": [
    "%env ARTS_INCLUDE_PATH=/home/simon/src/arts_clean/controlfiles/\n",
    "%env ARTS_DATA_PATH=/home/simon/src/arts_xml/\n",
    "%env ARTS_BUILD_PATH=/home/simon/build/arts_production/arts\n",
    "\n",
    "%matplotlib inline\n",
    "import numpy as np\n",
    "import matplotlib.pyplot as plt\n",
    "\n",
    "from typhon.arts.workspace import Workspace, arts_agenda"
   ]
  },
  {
   "cell_type": "markdown",
   "metadata": {},
   "source": [
    "This notebook is essentially a transcript of the `qpack_wind3d_demo.m` script which uses a\n",
    "three-dimensional atmosphere to retrieve wind speeds."
   ]
  },
  {
   "cell_type": "code",
   "execution_count": 24,
   "metadata": {},
   "outputs": [
    {
     "name": "stdout",
     "output_type": "stream",
     "text": [
      "ARTS[42450304]: Executing /home/simon/src/arts_clean/controlfiles/general/general.arts\n",
      "ARTS[42450304]: {\n",
      "ARTS[42450304]: - verbosityInit\n",
      "ARTS[42450304]: - scat_speciesSet\n",
      "ARTS[42450304]: - MatrixSet\n",
      "ARTS[42450304]: - Tensor4SetConstant\n",
      "ARTS[42450304]: - ArrayOfStringSet\n",
      "ARTS[42450304]: - Touch\n",
      "ARTS[42450304]: - FlagOff\n",
      "ARTS[42450304]: - MatrixSet\n",
      "ARTS[42450304]: - NumericSet\n",
      "ARTS[42450304]: - ArrayOfStringSet\n",
      "ARTS[42450304]: - Tensor3SetConstant\n",
      "ARTS[42450304]: - Tensor3SetConstant\n",
      "ARTS[42450304]: - Tensor3SetConstant\n",
      "ARTS[42450304]: - Tensor3SetConstant\n",
      "ARTS[42450304]: - Tensor3SetConstant\n",
      "ARTS[42450304]: - Tensor3SetConstant\n",
      "ARTS[42450304]: - IndexSet\n",
      "ARTS[42450304]: - IndexSet\n",
      "ARTS[42450304]: - IndexSet\n",
      "ARTS[42450304]: - IndexSet\n",
      "ARTS[42450304]: - FlagOff\n",
      "ARTS[42450304]: - output_file_formatSetAscii\n",
      "ARTS[42450304]: - StringSet\n",
      "ARTS[42450304]: - IndexSet\n",
      "ARTS[42450304]: - abs_lineshapeDefine\n",
      "ARTS[42450304]: - NumericSet\n",
      "ARTS[42450304]: - NumericSet\n",
      "ARTS[42450304]: - AgendaSet\n",
      "ARTS[42450304]: - IndexSet\n",
      "ARTS[42450304]: - IndexSet\n",
      "ARTS[42450304]: - NumericSet\n",
      "ARTS[42450304]: - NumericSet\n",
      "ARTS[42450304]: - nlteOff\n",
      "ARTS[42450304]: - partition_functionsInitFromBuiltin\n",
      "ARTS[42450304]: - IndexSet\n",
      "ARTS[42450304]: }\n",
      "\n",
      "ARTS[42450304]: Executing /home/simon/src/arts_clean/controlfiles/general/agendas.arts\n",
      "ARTS[42450304]: {\n",
      "ARTS[42450304]: - AgendaCreate\n",
      "ARTS[42450304]: - AgendaSet\n",
      "ARTS[42450304]: - AgendaCreate\n",
      "ARTS[42450304]: - AgendaSet\n",
      "ARTS[42450304]: - AgendaCreate\n",
      "ARTS[42450304]: - AgendaSet\n",
      "ARTS[42450304]: - AgendaCreate\n",
      "ARTS[42450304]: - AgendaSet\n",
      "ARTS[42450304]: - AgendaCreate\n",
      "ARTS[42450304]: - AgendaSet\n",
      "ARTS[42450304]: - AgendaCreate\n",
      "ARTS[42450304]: - AgendaSet\n",
      "ARTS[42450304]: - AgendaCreate\n",
      "ARTS[42450304]: - AgendaSet\n",
      "ARTS[42450304]: - AgendaCreate\n",
      "ARTS[42450304]: - AgendaSet\n",
      "ARTS[42450304]: - AgendaCreate\n",
      "ARTS[42450304]: - AgendaSet\n",
      "ARTS[42450304]: - AgendaCreate\n",
      "ARTS[42450304]: - AgendaSet\n",
      "ARTS[42450304]: - AgendaCreate\n",
      "ARTS[42450304]: - AgendaSet\n",
      "ARTS[42450304]: - AgendaCreate\n",
      "ARTS[42450304]: - AgendaSet\n",
      "ARTS[42450304]: - AgendaCreate\n",
      "ARTS[42450304]: - AgendaSet\n",
      "ARTS[42450304]: - AgendaCreate\n",
      "ARTS[42450304]: - AgendaSet\n",
      "ARTS[42450304]: - AgendaCreate\n",
      "ARTS[42450304]: - AgendaSet\n",
      "ARTS[42450304]: - AgendaCreate\n",
      "ARTS[42450304]: - AgendaSet\n",
      "ARTS[42450304]: - AgendaCreate\n",
      "ARTS[42450304]: - AgendaSet\n",
      "ARTS[42450304]: - AgendaCreate\n",
      "ARTS[42450304]: - AgendaSet\n",
      "ARTS[42450304]: - AgendaCreate\n",
      "ARTS[42450304]: - AgendaSet\n",
      "ARTS[42450304]: - AgendaCreate\n",
      "ARTS[42450304]: - AgendaSet\n",
      "ARTS[42450304]: - FlagOff\n",
      "ARTS[42450304]: - AgendaCreate\n",
      "ARTS[42450304]: - AgendaSet\n",
      "ARTS[42450304]: - AgendaCreate\n",
      "ARTS[42450304]: - AgendaSet\n",
      "ARTS[42450304]: - AgendaCreate\n",
      "ARTS[42450304]: - AgendaSet\n",
      "ARTS[42450304]: - AgendaCreate\n",
      "ARTS[42450304]: - AgendaSet\n",
      "ARTS[42450304]: - AgendaCreate\n",
      "ARTS[42450304]: - AgendaSet\n",
      "ARTS[42450304]: - AgendaCreate\n",
      "ARTS[42450304]: - AgendaSet\n",
      "ARTS[42450304]: - FlagOff\n",
      "ARTS[42450304]: - AgendaCreate\n",
      "ARTS[42450304]: - AgendaSet\n",
      "ARTS[42450304]: - AgendaCreate\n",
      "ARTS[42450304]: - AgendaSet\n",
      "ARTS[42450304]: - AgendaCreate\n",
      "ARTS[42450304]: - AgendaSet\n",
      "ARTS[42450304]: - AgendaCreate\n",
      "ARTS[42450304]: - AgendaSet\n",
      "ARTS[42450304]: - AgendaCreate\n",
      "ARTS[42450304]: - AgendaSet\n",
      "ARTS[42450304]: - AgendaCreate\n",
      "ARTS[42450304]: - AgendaSet\n",
      "ARTS[42450304]: - AgendaCreate\n",
      "ARTS[42450304]: - AgendaSet\n",
      "ARTS[42450304]: - AgendaCreate\n",
      "ARTS[42450304]: - AgendaSet\n",
      "ARTS[42450304]: - AgendaCreate\n",
      "ARTS[42450304]: - AgendaSet\n",
      "ARTS[42450304]: - AgendaCreate\n",
      "ARTS[42450304]: - AgendaSet\n",
      "ARTS[42450304]: - AgendaCreate\n",
      "ARTS[42450304]: - AgendaSet\n",
      "ARTS[42450304]: - AgendaCreate\n",
      "ARTS[42450304]: - AgendaSet\n",
      "ARTS[42450304]: - AgendaCreate\n",
      "ARTS[42450304]: - AgendaSet\n",
      "ARTS[42450304]: - AgendaCreate\n",
      "ARTS[42450304]: - AgendaSet\n",
      "ARTS[42450304]: - AgendaCreate\n",
      "ARTS[42450304]: - AgendaSet\n",
      "ARTS[42450304]: - AgendaCreate\n",
      "ARTS[42450304]: - AgendaSet\n",
      "ARTS[42450304]: - AgendaCreate\n",
      "ARTS[42450304]: - AgendaSet\n",
      "ARTS[42450304]: }\n",
      "\n",
      "ARTS[42450304]: Executing /home/simon/src/arts_clean/controlfiles/general/continua.arts\n",
      "ARTS[42450304]: {\n",
      "ARTS[42450304]: - abs_cont_descriptionInit\n",
      "ARTS[42450304]: - abs_cont_descriptionAppend\n",
      "ARTS[42450304]: - abs_cont_descriptionAppend\n",
      "ARTS[42450304]: - abs_cont_descriptionAppend\n",
      "ARTS[42450304]: - abs_cont_descriptionAppend\n",
      "ARTS[42450304]: - abs_cont_descriptionAppend\n",
      "ARTS[42450304]: - abs_cont_descriptionAppend\n",
      "ARTS[42450304]: - abs_cont_descriptionAppend\n",
      "ARTS[42450304]: - abs_cont_descriptionAppend\n",
      "ARTS[42450304]: - abs_cont_descriptionAppend\n",
      "ARTS[42450304]: - abs_cont_descriptionAppend\n",
      "ARTS[42450304]: - abs_cont_descriptionAppend\n",
      "ARTS[42450304]: - abs_cont_descriptionAppend\n",
      "ARTS[42450304]: - abs_cont_descriptionAppend\n",
      "ARTS[42450304]: - abs_cont_descriptionAppend\n",
      "ARTS[42450304]: - abs_cont_descriptionAppend\n",
      "ARTS[42450304]: - abs_cont_descriptionAppend\n",
      "ARTS[42450304]: - abs_cont_descriptionAppend\n",
      "ARTS[42450304]: - abs_cont_descriptionAppend\n",
      "ARTS[42450304]: - abs_cont_descriptionAppend\n",
      "ARTS[42450304]: - abs_cont_descriptionAppend\n",
      "ARTS[42450304]: - abs_cont_descriptionAppend\n",
      "ARTS[42450304]: - abs_cont_descriptionAppend\n",
      "ARTS[42450304]: - abs_cont_descriptionAppend\n",
      "ARTS[42450304]: - abs_cont_descriptionAppend\n",
      "ARTS[42450304]: - abs_cont_descriptionAppend\n",
      "ARTS[42450304]: - abs_cont_descriptionAppend\n",
      "ARTS[42450304]: - abs_cont_descriptionAppend\n",
      "ARTS[42450304]: - abs_cont_descriptionAppend\n",
      "ARTS[42450304]: - abs_cont_descriptionAppend\n",
      "ARTS[42450304]: - abs_cont_descriptionAppend\n",
      "ARTS[42450304]: - abs_cont_descriptionAppend\n",
      "ARTS[42450304]: - abs_cont_descriptionAppend\n",
      "ARTS[42450304]: - abs_cont_descriptionAppend\n",
      "ARTS[42450304]: - abs_cont_descriptionAppend\n",
      "ARTS[42450304]: - abs_cont_descriptionAppend\n",
      "ARTS[42450304]: - abs_cont_descriptionAppend\n",
      "ARTS[42450304]: - abs_cont_descriptionAppend\n",
      "ARTS[42450304]: - abs_cont_descriptionAppend\n",
      "ARTS[42450304]: - abs_cont_descriptionAppend\n",
      "ARTS[42450304]: - abs_cont_descriptionAppend\n",
      "ARTS[42450304]: - abs_cont_descriptionAppend\n",
      "ARTS[42450304]: - abs_cont_descriptionAppend\n",
      "ARTS[42450304]: - abs_cont_descriptionAppend\n",
      "ARTS[42450304]: - abs_cont_descriptionAppend\n",
      "ARTS[42450304]: - abs_cont_descriptionAppend\n",
      "ARTS[42450304]: - abs_cont_descriptionAppend\n",
      "ARTS[42450304]: - abs_cont_descriptionAppend\n",
      "ARTS[42450304]: - abs_cont_descriptionAppend\n",
      "ARTS[42450304]: - abs_cont_descriptionAppend\n",
      "ARTS[42450304]: - abs_cont_descriptionAppend\n",
      "ARTS[42450304]: - abs_cont_descriptionAppend\n",
      "ARTS[42450304]: - abs_cont_descriptionAppend\n",
      "ARTS[42450304]: - abs_cont_descriptionAppend\n",
      "ARTS[42450304]: - abs_cont_descriptionAppend\n",
      "ARTS[42450304]: - abs_cont_descriptionAppend\n",
      "ARTS[42450304]: - abs_cont_descriptionAppend\n",
      "ARTS[42450304]: }\n",
      "\n",
      "ARTS[42450304]: Executing /home/simon/src/arts_clean/controlfiles/general/planet_earth.arts\n",
      "ARTS[42450304]: {\n",
      "ARTS[42450304]: - isotopologue_ratiosInitFromBuiltin\n",
      "ARTS[42450304]: - refellipsoidEarth\n",
      "ARTS[42450304]: - NumericSet\n",
      "ARTS[42450304]: - AgendaSet\n",
      "ARTS[42450304]: - NumericSet\n",
      "ARTS[42450304]: }\n",
      "\n"
     ]
    }
   ],
   "source": [
    "ws = Workspace()\n",
    "\n",
    "ws.execute_controlfile(\"general/general.arts\")\n",
    "ws.execute_controlfile(\"general/agendas.arts\")\n",
    "ws.execute_controlfile(\"general/continua.arts\")\n",
    "ws.execute_controlfile(\"general/planet_earth.arts\")\n",
    "\n",
    "ws.Copy(ws.abs_xsec_agenda,   ws.abs_xsec_agenda__noCIA)\n",
    "ws.Copy(ws.ppath_agenda,      ws.ppath_agenda__FollowSensorLosPath)\n",
    "ws.Copy(ws.ppath_step_agenda, ws.ppath_step_agenda__GeometricPath)\n",
    "ws.Copy(ws.iy_space_agenda,   ws.iy_space_agenda__CosmicBackground)\n",
    "ws.Copy(ws.iy_surface_agenda, ws.iy_surface_agenda__UseSurfaceRtprop)\n",
    "ws.Copy(ws.iy_main_agenda,    ws.iy_main_agenda__Emission)\n",
    "ws.Copy(ws.propmat_clearsky_agenda, ws.propmat_clearsky_agenda__OnTheFly)\n"
   ]
  },
  {
   "cell_type": "markdown",
   "metadata": {},
   "source": [
    "## General Settings\n",
    "\n",
    "For the wind retrievals, the forward model calculations are performed on a 3D atmosphere grid.\n",
    "Radiation is assumed to be unpolarized."
   ]
  },
  {
   "cell_type": "code",
   "execution_count": 25,
   "metadata": {
    "collapsed": true
   },
   "outputs": [],
   "source": [
    "ws.atmosphere_dim = 3\n",
    "ws.stokes_dim     = 1\n",
    "ws.iy_unit = \"RJBT\""
   ]
  },
  {
   "cell_type": "markdown",
   "metadata": {},
   "source": [
    "## Absorption\n",
    "\n",
    "We only consider absorption from ozone in this example. The lineshape data is available from\n",
    "the ARTS testdata available in `controlfiles/testdata`."
   ]
  },
  {
   "cell_type": "code",
   "execution_count": 26,
   "metadata": {
    "collapsed": true
   },
   "outputs": [],
   "source": [
    "ws.abs_speciesSet([\"O3\", \"H2O-PWR98\"])\n",
    "ws.abs_lineshapeDefine(\"Voigt_Kuntz6\", \"VVH\", 750e9)\n",
    "ws.ReadXML(ws.abs_lines, \"testdata/ozone_line.xml\")\n",
    "ws.abs_lines_per_speciesCreateFromLines()"
   ]
  },
  {
   "cell_type": "markdown",
   "metadata": {},
   "source": [
    "## Atmosphere (A Priori)\n",
    "\n",
    "We create a pressure grid using the `PFromZSimple` function to create a grid of approximate pressure levels corresponding to altitudes in the range\n",
    "\n",
    "$$\n",
    "z = 0.0, 2000.0, \\dots, 94000.0\n",
    "$$"
   ]
  },
  {
   "cell_type": "code",
   "execution_count": 27,
   "metadata": {
    "collapsed": true
   },
   "outputs": [],
   "source": [
    "z_toa  = 95e3;\n",
    "z_surf = 1e3;\n",
    "z_grid = np.arange(z_surf - 1e3, z_toa, 2e3)\n",
    "ws.PFromZSimple(ws.p_grid, z_grid)\n",
    "ws.lat_grid = np.arange(-40.0, 1.0, 40.0)\n",
    "ws.lon_grid = np.arange(40.0, 61.0, 20.0)\n",
    "ws.z_surface = z_surf * np.ones((np.asarray(ws.lat_grid).size,\n",
    "                                 np.asarray(ws.lon_grid).size))"
   ]
  },
  {
   "cell_type": "markdown",
   "metadata": {},
   "source": [
    "For the a priori state we read data from the Fascod climatology that is part of the ARTS xml data."
   ]
  },
  {
   "cell_type": "code",
   "execution_count": 28,
   "metadata": {
    "collapsed": true
   },
   "outputs": [],
   "source": [
    "ws.AtmRawRead(basename = \"planets/Earth/Fascod/tropical/tropical\")\n",
    "ws.AtmFieldsCalcExpand1D()"
   ]
  },
  {
   "cell_type": "markdown",
   "metadata": {},
   "source": [
    "## Adding Wind\n",
    "\n",
    "Wind in ARTS is represented by the `wind_u_field` and `wind_v_field` WSVs, which hold the horizontal components of the wind at each grid point of the atmosphere model. For this example, a constant wind is assumed."
   ]
  },
  {
   "cell_type": "code",
   "execution_count": 29,
   "metadata": {
    "collapsed": true
   },
   "outputs": [],
   "source": [
    "u_wind = 60.0\n",
    "v_wind = -40.0\n",
    "ws.wind_u_field = u_wind * np.ones((ws.p_grid.value.size,\n",
    "                                    ws.lat_grid.value.size,\n",
    "                                    ws.lon_grid.value.size))\n",
    "ws.wind_v_field = v_wind * np.ones((ws.p_grid.value.size,\n",
    "                                    ws.lat_grid.value.size,\n",
    "                                    ws.lon_grid.value.size))\n",
    "ws.wind_w_field = np.zeros((0,0,0))"
   ]
  },
  {
   "cell_type": "markdown",
   "metadata": {},
   "source": [
    "## Frequency Grid and Sensor\n",
    "\n",
    "The frequency grid for the simulation consists of 119 grid\n",
    "points between 110.516 and 111.156 GHz. The frequencies\n",
    "are given by a degree-10 polynomial that has been obtained from a fit to the data from the original `qpack` example. This is obscure but also kind of cool."
   ]
  },
  {
   "cell_type": "code",
   "execution_count": 30,
   "metadata": {},
   "outputs": [
    {
     "data": {
      "text/plain": [
       "<matplotlib.text.Text at 0x7f9f81759208>"
      ]
     },
     "execution_count": 30,
     "metadata": {},
     "output_type": "execute_result"
    },
    {
     "data": {
      "image/png": "[encoded data removed]",
      "text/plain": [
       "<matplotlib.figure.Figure at 0x7f9f8122dba8>"
      ]
     },
     "metadata": {},
     "output_type": "display_data"
    }
   ],
   "source": [
    "coeffs = np.array([5.06312189e-08, -2.68851772e-05, 6.20655463e-03,\n",
    "                   -8.16344090e-01,   6.75337174e+01,  -3.66786505e+03,\n",
    "                   1.32578167e+05,  -3.14514304e+06,   4.57491354e+07,\n",
    "                   1.10516484e+11])\n",
    "ws.f_grid = np.poly1d(coeffs)(np.arange(119))\n",
    "\n",
    "plt.plot(ws.f_grid.value * 1e-9)\n",
    "plt.xlabel(\"Channel Number\")\n",
    "plt.ylabel(\"Frequency [GHz]\")\n",
    "\n"
   ]
  },
  {
   "cell_type": "markdown",
   "metadata": {},
   "source": [
    "For the sensor we assume a channel width and channel spacing of 50 kHz. We also call `AntennaOff` to compute\n",
    "only one pencilbeam along the line of sight of the sensor."
   ]
  },
  {
   "cell_type": "code",
   "execution_count": 31,
   "metadata": {
    "collapsed": true
   },
   "outputs": [],
   "source": [
    "df = 50e3\n",
    "f_backend = np.arange(ws.f_grid.value.min() + 2.0 * df, ws.f_grid.value.max() - 2.0 * df, df)\n",
    "ws.backend_channel_responseGaussian(np.array([df]), np.array([2.0]))\n",
    "ws.AntennaOff()\n",
    "\n",
    "ws.sensor_norm = 1\n",
    "ws.sensor_time = np.zeros(1)\n",
    "ws.sensor_responseInit()"
   ]
  },
  {
   "cell_type": "markdown",
   "metadata": {},
   "source": [
    "### Sensor Position and Viewing Geometry\n",
    "\n",
    "5 Measurements are performed, one straight up, and four with zenith angle $70^\\circ$ in directions SW, NW, NE, SE. In ARTS the measurement directions are given by a two-column matrix, where the first column contains the zenith angle and the second column the azimuth angle."
   ]
  },
  {
   "cell_type": "code",
   "execution_count": 32,
   "metadata": {
    "collapsed": true
   },
   "outputs": [],
   "source": [
    "ws.sensor_los = np.array([[0.0, 0.0,],\n",
    "                          [70.0, -135.0],\n",
    "                          [70.0, -45.0],\n",
    "                          [70.0, 45.0],\n",
    "                          [70.0, 135.0]])\n",
    "ws.sensor_pos = np.array([[2000.0, -21.1, 55.6]] * 5)"
   ]
  },
  {
   "cell_type": "markdown",
   "metadata": {
    "collapsed": true
   },
   "source": [
    "## Reference Measurement\n",
    "\n",
    "Before we can calculate `y`, our setup needs to pass the following tests:"
   ]
  },
  {
   "cell_type": "code",
   "execution_count": 33,
   "metadata": {
    "collapsed": true
   },
   "outputs": [],
   "source": [
    "ws.abs_f_interp_order = 3\n",
    "ws.propmat_clearsky_agenda_checkedCalc()\n",
    "ws.sensor_checkedCalc()\n",
    "ws.atmgeom_checkedCalc()\n",
    "ws.atmfields_checkedCalc()\n",
    "ws.abs_xsec_agenda_checkedCalc()\n",
    "ws.cloudboxOff()\n",
    "ws.jacobianOff()\n",
    "ws.cloudbox_checkedCalc()"
   ]
  },
  {
   "cell_type": "markdown",
   "metadata": {},
   "source": [
    "Now, we can run the simulation using the `yCalc` WSM and display the results. The results for all 5 measurements are stacked in `ws.y`."
   ]
  },
  {
   "cell_type": "code",
   "execution_count": 34,
   "metadata": {},
   "outputs": [
    {
     "data": {
      "text/plain": [
       "<matplotlib.legend.Legend at 0x7f9f8179af60>"
      ]
     },
     "execution_count": 34,
     "metadata": {},
     "output_type": "execute_result"
    },
    {
     "data": {
      "image/png": "[encoded data removed]",
      "text/plain": [
       "<matplotlib.figure.Figure at 0x7f9f8179ab70>"
      ]
     },
     "metadata": {},
     "output_type": "display_data"
    }
   ],
   "source": [
    "ws.yCalc()\n",
    "\n",
    "# Plot results\n",
    "y = np.copy(ws.y)\n",
    "f = np.asarray(ws.f_grid)\n",
    "labels = [\"Up\", \"SW\", \"NW\", \"NE\", \"SE\"]\n",
    "for i,l in zip(range(0, y.size, y.size // 5), labels):\n",
    "    plt.plot(f * 1e-9, y[i:i+f.size], label=l)\n",
    "plt.xlabel(\"f [GHz]\")\n",
    "plt.xscale(\"log\")\n",
    "plt.yscale(\"log\")\n",
    "plt.ylabel(\"RJBT\")\n",
    "plt.ylabel(\"RJBT\")\n",
    "plt.legend()"
   ]
  },
  {
   "cell_type": "markdown",
   "metadata": {
    "collapsed": true
   },
   "source": [
    "## Setting up the Retrieval\n",
    "\n",
    "In this example, we retrieve ozone, the horizontal and vertical components of the wind velocities as well as a frequency shift and a polynomial baseline."
   ]
  },
  {
   "cell_type": "code",
   "execution_count": 35,
   "metadata": {},
   "outputs": [
    {
     "data": {
      "text/plain": [
       "(array([ 50.]), array([-20.]))"
      ]
     },
     "execution_count": 35,
     "metadata": {},
     "output_type": "execute_result"
    },
    {
     "data": {
      "image/png": "[encoded data removed]",
      "text/plain": [
       "<matplotlib.figure.Figure at 0x7f9f81407f98>"
      ]
     },
     "metadata": {},
     "output_type": "display_data"
    }
   ],
   "source": [
    "lat_ret_grid = np.array([np.mean(ws.lat_grid)])\n",
    "lon_ret_grid = np.array([np.mean(ws.lon_grid)])\n",
    "n_p = ws.p_grid.value.size\n",
    "\n",
    "ws.retrievalDefInit()\n",
    "ws.covmat1D(grid_1 = z_grid,\n",
    "           sigma_1 = 0.1  * np.ones(n_p), # Relative uncertainty\n",
    "           cls_1   = 10e3 * np.ones(n_p), # 10km correlation length\n",
    "           fname   = \"lin\")\n",
    "ws.retrievalAddAbsSpecies(species = \"O3\",\n",
    "                          unit    = \"rel\",\n",
    "                          g1      = ws.p_grid,\n",
    "                          g2      = lat_ret_grid,\n",
    "                          g3      = lon_ret_grid)\n",
    "# Wind u-component\n",
    "ws.covmat1D(grid_1 = z_grid[::2],\n",
    "           sigma_1 = 100.0  * np.ones(n_p // 2), # Relative uncertainty\n",
    "           cls_1   = 10e3 * np.ones(n_p // 2), # 10km correlation length\n",
    "           fname   = \"lin\")\n",
    "plt.imshow(ws.covmat_block.value.toarray())\n",
    "plt.colorbar()\n",
    "ws.retrievalAddWind(g1 = ws.p_grid.value[::2],\n",
    "                    g2 = np.array([np.mean(ws.lat_grid)]),\n",
    "                    g3 = np.array([np.mean(ws.lon_grid)]),\n",
    "                    component = \"u\")\n",
    "# Wind v-component\n",
    "ws.covmat1D(grid_1 = z_grid[::2],\n",
    "           sigma_1 = 100.0  * np.ones(n_p // 2), # Relative uncertainty\n",
    "           cls_1   = 10e3 * np.ones(n_p // 2), # 10km correlation length\n",
    "           fname   = \"lin\")\n",
    "ws.retrievalAddWind(g1 = ws.p_grid.value[::2],\n",
    "                    g2 = np.array([np.mean(ws.lat_grid)]),\n",
    "                    g3 = np.array([np.mean(ws.lon_grid)]),\n",
    "                    component = \"v\")\n",
    "ws.retrievalDefClose()\n",
    "ws.covmatDiagonal(0.000001 * np.ones(ws.y.value.shape))\n",
    "ws.covmat_seSet()\n",
    "ws.p_grid.value[::2].shape\n",
    "(lon_ret_grid, lat_ret_grid)"
   ]
  },
  {
   "cell_type": "code",
   "execution_count": 36,
   "metadata": {
    "collapsed": true,
    "scrolled": true
   },
   "outputs": [],
   "source": [
    "@arts_agenda\n",
    "def inversion_iterate_agenda(ws):\n",
    "    ws.x2artsStandard()  \n",
    "    ws.atmfields_checkedCalc()\n",
    "    ws.atmgeom_checkedCalc()\n",
    "    ws.yCalc()\n",
    "    ws.Print(ws.y)\n",
    "    ws.Print(ws.jacobian)\n",
    "    ws.VectorAddVector( ws.yf, ws.y, ws.y_baseline )\n",
    "    ws.jacobianAdjustAfterIteration() \n",
    "    \n",
    "ws.Copy(ws.inversion_iterate_agenda, inversion_iterate_agenda)"
   ]
  },
  {
   "cell_type": "markdown",
   "metadata": {},
   "source": [
    "## Jacobian\n",
    "\n",
    "Let's have a look at the Jacobian to make sure our setup is sound."
   ]
  },
  {
   "cell_type": "code",
   "execution_count": 37,
   "metadata": {
    "collapsed": true
   },
   "outputs": [],
   "source": [
    "ws.jacobian_do = 1\n",
    "ws.yCalc()"
   ]
  },
  {
   "cell_type": "markdown",
   "metadata": {},
   "source": [
    "## Ozone"
   ]
  },
  {
   "cell_type": "code",
   "execution_count": 38,
   "metadata": {},
   "outputs": [
    {
     "data": {
      "image/png": "[encoded data removed]",
      "text/plain": [
       "<matplotlib.figure.Figure at 0x7f9f8165bcf8>"
      ]
     },
     "metadata": {},
     "output_type": "display_data"
    }
   ],
   "source": [
    "f, axs = plt.subplots(3,2, figsize=(12,6))\n",
    "n_meas = ws.y.value.size // 5\n",
    "for i in range(6):\n",
    "    if i < 5:\n",
    "        i_start = n_meas * i\n",
    "        i_end   = n_meas * (i + 1)\n",
    "        axs.ravel()[i].imshow(ws.jacobian.value[i_start:i_end, :n_p],\n",
    "                              aspect=0.25)\n",
    "        axs.ravel()[i].set_title(labels[i])\n",
    "    else:\n",
    "        axs.ravel()[i].axis(\"off\")\n",
    "plt.tight_layout()"
   ]
  },
  {
   "cell_type": "markdown",
   "metadata": {
    "collapsed": true
   },
   "source": [
    "## Zonal Winds\n",
    "\n",
    "For zonal winds we plot the logarithm of the absolute value to visualize the different sensitivity scales throughout the model atmosphere."
   ]
  },
  {
   "cell_type": "code",
   "execution_count": 39,
   "metadata": {},
   "outputs": [
    {
     "data": {
      "image/png": "[encoded data removed]",
      "text/plain": [
       "<matplotlib.figure.Figure at 0x7f9f81521470>"
      ]
     },
     "metadata": {},
     "output_type": "display_data"
    }
   ],
   "source": [
    "f, axs = plt.subplots(3,2, figsize=(12,6))\n",
    "n_meas = ws.y.value.size // 5\n",
    "for i in range(6):\n",
    "    if i < 5:\n",
    "        i_start = n_meas * i\n",
    "        i_end   = n_meas * (i + 1)\n",
    "        axs.ravel()[i].imshow(np.log(np.abs(ws.jacobian.value[i_start:i_end, n_p:3*n_p//2])),\n",
    "                              aspect=0.25)\n",
    "        axs.ravel()[i].set_title(labels[i])\n",
    "    else:\n",
    "        axs.ravel()[i].axis(\"off\")\n",
    "plt.tight_layout()"
   ]
  },
  {
   "cell_type": "markdown",
   "metadata": {},
   "source": [
    "## Meridional Winds"
   ]
  },
  {
   "cell_type": "code",
   "execution_count": 40,
   "metadata": {},
   "outputs": [
    {
     "data": {
      "image/png": "[encoded data removed]",
      "text/plain": [
       "<matplotlib.figure.Figure at 0x7f9f816185f8>"
      ]
     },
     "metadata": {},
     "output_type": "display_data"
    }
   ],
   "source": [
    "f, axs = plt.subplots(3,2, figsize=(12,6))\n",
    "n_meas = ws.y.value.size // 5\n",
    "for i in range(6):\n",
    "    if i < 5:\n",
    "        i_start = n_meas * i\n",
    "        i_end   = n_meas * (i + 1)\n",
    "        axs.ravel()[i].imshow(np.log(np.abs(ws.jacobian.value[i_start:i_end, n_p:3*n_p//2])),\n",
    "                              aspect=0.25)\n",
    "        axs.ravel()[i].set_title(labels[i])\n",
    "    else:\n",
    "        axs.ravel()[i].axis(\"off\")\n",
    "plt.tight_layout()"
   ]
  },
  {
   "cell_type": "markdown",
   "metadata": {},
   "source": [
    "## A Priori State\n",
    "\n",
    "For the a priori state we assume zero wind in any direction. The a priori vector for the OEM is created by the `xaStandard` WSM, which computes $x_a$ from the current atmospheric state."
   ]
  },
  {
   "cell_type": "code",
   "execution_count": 41,
   "metadata": {
    "collapsed": true
   },
   "outputs": [],
   "source": [
    "ws.wind_u_field.value[:] = 0.0\n",
    "ws.wind_v_field.value[:] = 0.0\n",
    "ws.xaStandard()"
   ]
  },
  {
   "cell_type": "markdown",
   "metadata": {},
   "source": [
    "# The OEM Calculation"
   ]
  },
  {
   "cell_type": "code",
   "execution_count": 42,
   "metadata": {},
   "outputs": [
    {
     "name": "stdout",
     "output_type": "stream",
     "text": [
      "ARTS[42450304]: \n",
      "ARTS[42450304]:                                 MAP Computation                                \n",
      "ARTS[42450304]: Formulation: Standard\n",
      "ARTS[42450304]: Method:      Levenberg-Marquardt\n",
      "ARTS[42450304]: \n",
      "ARTS[42450304]:  Step     Total Cost         x-Cost         y-Cost    Conv. Crit.   Gamma Factor\n",
      "ARTS[42450304]: --------------------------------------------------------------------------------\n",
      "ARTS[42450304]:     0        188.092              0        188.092                    100.000000\n",
      "ARTS[42450304]:     1        187.542     0.00956077        187.533        3.26788      50.000000\n",
      "ARTS[42450304]:     2        187.501     0.00969468        187.491    0.000179492      25.000000\n",
      "ARTS[42450304]:     3        187.419     0.00974086        187.409    0.000513686      12.500000\n",
      "ARTS[42450304]:     4        187.254     0.00974596        187.244    0.000266565       6.250000\n",
      "ARTS[42450304]:     5        186.926     0.00976944        186.916     0.00100476       3.125000\n",
      "ARTS[42450304]:     6         186.27     0.00985442         186.26     0.00400622       1.562500\n",
      "ARTS[42450304]:     7        184.968      0.0101799        184.958      0.0160977       0.000000\n",
      "ARTS[42450304]:     8       0.512378      0.0134938       0.498884         1142.9       0.000000\n",
      "ARTS[42450304]:     9       0.413445     0.00335644       0.410089        3.15233       0.000000\n",
      "ARTS[42450304]:    10      0.0040753     0.00356791    0.000507387        2.53492       0.000000\n",
      "ARTS[42450304]:    11     0.00402257     0.00356789    0.000454686    0.000326782       0.000000\n",
      "ARTS[42450304]: --------------------------------------------------------------------------------\n",
      "ARTS[42450304]: \n",
      "ARTS[42450304]: Total number of steps:            11\n",
      "ARTS[42450304]: Final scaled cost function value: 0.00402257\n",
      "ARTS[42450304]: OEM computation converged.\n",
      "ARTS[42450304]: \n",
      "ARTS[42450304]: Elapsed Time for Retrieval:                       4.66156\n",
      "ARTS[42450304]: Time in inversion_iterate Agenda (No Jacobian):   2.49541\n",
      "ARTS[42450304]: Time in inversion_iterate Agenda (With Jacobian): 2.15017\n",
      "ARTS[42450304]: \n",
      "ARTS[42450304]:                                       ----                                      \n",
      "ARTS[42450304]: \n",
      "\n"
     ]
    }
   ],
   "source": [
    "ws.x        = np.zeros(0)\n",
    "ws.jacobian = np.zeros((0,0))\n",
    "ws.y.value[:] = y\n",
    "ws.OEM(method=\"lm\", max_iter=20, display_progress=1,\n",
    "       lm_ga_settings=np.array([100.0,2.0,2.0,10.0,1.0,1.0]))\n"
   ]
  },
  {
   "cell_type": "code",
   "execution_count": 43,
   "metadata": {
    "collapsed": true
   },
   "outputs": [],
   "source": [
    "ws.x2artsStandard()"
   ]
  },
  {
   "cell_type": "code",
   "execution_count": 44,
   "metadata": {},
   "outputs": [
    {
     "data": {
      "text/plain": [
       "array([[[ 33.88022455,  33.88022455],\n",
       "        [ 33.88022455,  33.88022455]],\n",
       "\n",
       "       [[ 44.76839688,  44.76839688],\n",
       "        [ 44.76839688,  44.76839688]],\n",
       "\n",
       "       [[ 37.24918199,  37.24918199],\n",
       "        [ 37.24918199,  37.24918199]],\n",
       "\n",
       "       [[ 26.0908259 ,  26.0908259 ],\n",
       "        [ 26.0908259 ,  26.0908259 ]],\n",
       "\n",
       "       [[ 14.2558453 ,  14.2558453 ],\n",
       "        [ 14.2558453 ,  14.2558453 ]],\n",
       "\n",
       "       [[  3.0033534 ,   3.0033534 ],\n",
       "        [  3.0033534 ,   3.0033534 ]],\n",
       "\n",
       "       [[  1.25523674,   1.25523674],\n",
       "        [  1.25523674,   1.25523674]],\n",
       "\n",
       "       [[  2.31468951,   2.31468951],\n",
       "        [  2.31468951,   2.31468951]],\n",
       "\n",
       "       [[  5.5742297 ,   5.5742297 ],\n",
       "        [  5.5742297 ,   5.5742297 ]],\n",
       "\n",
       "       [[ 12.22109801,  12.22109801],\n",
       "        [ 12.22109801,  12.22109801]],\n",
       "\n",
       "       [[ 22.88851626,  22.88851626],\n",
       "        [ 22.88851626,  22.88851626]],\n",
       "\n",
       "       [[ 36.43551154,  36.43551154],\n",
       "        [ 36.43551154,  36.43551154]],\n",
       "\n",
       "       [[ 50.13866413,  50.13866413],\n",
       "        [ 50.13866413,  50.13866413]],\n",
       "\n",
       "       [[ 59.94389001,  59.94389001],\n",
       "        [ 59.94389001,  59.94389001]],\n",
       "\n",
       "       [[ 63.73963275,  63.73963275],\n",
       "        [ 63.73963275,  63.73963275]],\n",
       "\n",
       "       [[ 62.79262287,  62.79262287],\n",
       "        [ 62.79262287,  62.79262287]],\n",
       "\n",
       "       [[ 60.55811795,  60.55811795],\n",
       "        [ 60.55811795,  60.55811795]],\n",
       "\n",
       "       [[ 59.79197826,  59.79197826],\n",
       "        [ 59.79197826,  59.79197826]],\n",
       "\n",
       "       [[ 59.79431962,  59.79431962],\n",
       "        [ 59.79431962,  59.79431962]],\n",
       "\n",
       "       [[ 57.26318478,  57.26318478],\n",
       "        [ 57.26318478,  57.26318478]],\n",
       "\n",
       "       [[ 61.62382827,  61.62382827],\n",
       "        [ 61.62382827,  61.62382827]],\n",
       "\n",
       "       [[ 61.07620387,  61.07620387],\n",
       "        [ 61.07620387,  61.07620387]],\n",
       "\n",
       "       [[ 59.180128  ,  59.180128  ],\n",
       "        [ 59.180128  ,  59.180128  ]],\n",
       "\n",
       "       [[ 60.00050082,  60.00050082],\n",
       "        [ 60.00050082,  60.00050082]],\n",
       "\n",
       "       [[ 60.00050082,  60.00050082],\n",
       "        [ 60.00050082,  60.00050082]],\n",
       "\n",
       "       [[ 60.00050082,  60.00050082],\n",
       "        [ 60.00050082,  60.00050082]],\n",
       "\n",
       "       [[ 60.00050082,  60.00050082],\n",
       "        [ 60.00050082,  60.00050082]],\n",
       "\n",
       "       [[ 60.00050082,  60.00050082],\n",
       "        [ 60.00050082,  60.00050082]],\n",
       "\n",
       "       [[ 60.00050082,  60.00050082],\n",
       "        [ 60.00050082,  60.00050082]],\n",
       "\n",
       "       [[ 60.00050082,  60.00050082],\n",
       "        [ 60.00050082,  60.00050082]],\n",
       "\n",
       "       [[ 60.00050082,  60.00050082],\n",
       "        [ 60.00050082,  60.00050082]],\n",
       "\n",
       "       [[ 60.00050082,  60.00050082],\n",
       "        [ 60.00050082,  60.00050082]],\n",
       "\n",
       "       [[ 60.00050082,  60.00050082],\n",
       "        [ 60.00050082,  60.00050082]],\n",
       "\n",
       "       [[ 60.00050082,  60.00050082],\n",
       "        [ 60.00050082,  60.00050082]],\n",
       "\n",
       "       [[ 60.00050082,  60.00050082],\n",
       "        [ 60.00050082,  60.00050082]],\n",
       "\n",
       "       [[ 60.00050082,  60.00050082],\n",
       "        [ 60.00050082,  60.00050082]],\n",
       "\n",
       "       [[ 60.00050082,  60.00050082],\n",
       "        [ 60.00050082,  60.00050082]],\n",
       "\n",
       "       [[ 60.00050082,  60.00050082],\n",
       "        [ 60.00050082,  60.00050082]],\n",
       "\n",
       "       [[ 60.00050082,  60.00050082],\n",
       "        [ 60.00050082,  60.00050082]],\n",
       "\n",
       "       [[ 60.00050082,  60.00050082],\n",
       "        [ 60.00050082,  60.00050082]],\n",
       "\n",
       "       [[ 60.00050082,  60.00050082],\n",
       "        [ 60.00050082,  60.00050082]],\n",
       "\n",
       "       [[ 60.00050082,  60.00050082],\n",
       "        [ 60.00050082,  60.00050082]],\n",
       "\n",
       "       [[ 60.00050082,  60.00050082],\n",
       "        [ 60.00050082,  60.00050082]],\n",
       "\n",
       "       [[ 60.00050082,  60.00050082],\n",
       "        [ 60.00050082,  60.00050082]],\n",
       "\n",
       "       [[ 60.00050082,  60.00050082],\n",
       "        [ 60.00050082,  60.00050082]],\n",
       "\n",
       "       [[ 60.00050082,  60.00050082],\n",
       "        [ 60.00050082,  60.00050082]],\n",
       "\n",
       "       [[ 60.00050082,  60.00050082],\n",
       "        [ 60.00050082,  60.00050082]],\n",
       "\n",
       "       [[ 60.00050082,  60.00050082],\n",
       "        [ 60.00050082,  60.00050082]]])"
      ]
     },
     "execution_count": 44,
     "metadata": {},
     "output_type": "execute_result"
    }
   ],
   "source": [
    "ws.wind_u_field.value"
   ]
  }
 ],
 "metadata": {
  "kernelspec": {
   "display_name": "Python 3",
   "language": "python",
   "name": "python3"
  },
  "language_info": {
   "codemirror_mode": {
    "name": "ipython",
    "version": 3
   },
   "file_extension": ".py",
   "mimetype": "text/x-python",
   "name": "python",
   "nbconvert_exporter": "python",
   "pygments_lexer": "ipython3",
   "version": "3.6.1"
  }
 },
 "nbformat": 4,
 "nbformat_minor": 2
}
