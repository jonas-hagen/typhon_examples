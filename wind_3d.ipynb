{
 "cells": [
  {
   "cell_type": "markdown",
   "metadata": {},
   "source": [
    "# 3D Wind Retrievals"
   ]
  },
  {
   "cell_type": "code",
   "execution_count": 1,
   "metadata": {},
   "outputs": [
    {
     "name": "stdout",
     "output_type": "stream",
     "text": [
      "env: ARTS_INCLUDE_PATH=/home/simon/src/arts_clean/controlfiles/\n",
      "env: ARTS_DATA_PATH=/home/simon/src/arts_xml/\n",
      "env: ARTS_BUILD_PATH=/home/simon/build/arts_production/arts\n",
      "Loading ARTS API from: /home/simon/build/arts_production/arts/src/arts_api.so\n"
     ]
    }
   ],
   "source": [
    "%env ARTS_INCLUDE_PATH=/home/simon/src/arts_clean/controlfiles/\n",
    "%env ARTS_DATA_PATH=/home/simon/src/arts_xml/\n",
    "%env ARTS_BUILD_PATH=/home/simon/build/arts_production/arts\n",
    "\n",
    "%matplotlib inline\n",
    "import numpy as np\n",
    "import matplotlib.pyplot as plt\n",
    "\n",
    "from typhon.arts.workspace import Workspace, arts_agenda"
   ]
  },
  {
   "cell_type": "markdown",
   "metadata": {},
   "source": [
    "This notebook is essentially a transcript of the `qpack_wind3d_demo.m` script which uses a\n",
    "three-dimensional atmosphere to retrieve wind speeds."
   ]
  },
  {
   "cell_type": "code",
   "execution_count": 2,
   "metadata": {},
   "outputs": [
    {
     "name": "stdout",
     "output_type": "stream",
     "text": [
      "ARTS[63876208]: Executing /home/simon/src/arts_clean/controlfiles/general/general.arts\n",
      "ARTS[63876208]: {\n",
      "ARTS[63876208]: - verbosityInit\n",
      "ARTS[63876208]: - scat_speciesSet\n",
      "ARTS[63876208]: - MatrixSet\n",
      "ARTS[63876208]: - Tensor4SetConstant\n",
      "ARTS[63876208]: - ArrayOfStringSet\n",
      "ARTS[63876208]: - Touch\n",
      "ARTS[63876208]: - FlagOff\n",
      "ARTS[63876208]: - MatrixSet\n",
      "ARTS[63876208]: - NumericSet\n",
      "ARTS[63876208]: - ArrayOfStringSet\n",
      "ARTS[63876208]: - Tensor3SetConstant\n",
      "ARTS[63876208]: - Tensor3SetConstant\n",
      "ARTS[63876208]: - Tensor3SetConstant\n",
      "ARTS[63876208]: - Tensor3SetConstant\n",
      "ARTS[63876208]: - Tensor3SetConstant\n",
      "ARTS[63876208]: - Tensor3SetConstant\n",
      "ARTS[63876208]: - IndexSet\n",
      "ARTS[63876208]: - IndexSet\n",
      "ARTS[63876208]: - IndexSet\n",
      "ARTS[63876208]: - IndexSet\n",
      "ARTS[63876208]: - FlagOff\n",
      "ARTS[63876208]: - output_file_formatSetAscii\n",
      "ARTS[63876208]: - StringSet\n",
      "ARTS[63876208]: - IndexSet\n",
      "ARTS[63876208]: - abs_lineshapeDefine\n",
      "ARTS[63876208]: - NumericSet\n",
      "ARTS[63876208]: - NumericSet\n",
      "ARTS[63876208]: - AgendaSet\n",
      "ARTS[63876208]: - IndexSet\n",
      "ARTS[63876208]: - IndexSet\n",
      "ARTS[63876208]: - NumericSet\n",
      "ARTS[63876208]: - NumericSet\n",
      "ARTS[63876208]: - nlteOff\n",
      "ARTS[63876208]: - partition_functionsInitFromBuiltin\n",
      "ARTS[63876208]: - IndexSet\n",
      "ARTS[63876208]: }\n",
      "\n",
      "ARTS[63876208]: Executing /home/simon/src/arts_clean/controlfiles/general/agendas.arts\n",
      "ARTS[63876208]: {\n",
      "ARTS[63876208]: - AgendaCreate\n",
      "ARTS[63876208]: - AgendaSet\n",
      "ARTS[63876208]: - AgendaCreate\n",
      "ARTS[63876208]: - AgendaSet\n",
      "ARTS[63876208]: - AgendaCreate\n",
      "ARTS[63876208]: - AgendaSet\n",
      "ARTS[63876208]: - AgendaCreate\n",
      "ARTS[63876208]: - AgendaSet\n",
      "ARTS[63876208]: - AgendaCreate\n",
      "ARTS[63876208]: - AgendaSet\n",
      "ARTS[63876208]: - AgendaCreate\n",
      "ARTS[63876208]: - AgendaSet\n",
      "ARTS[63876208]: - AgendaCreate\n",
      "ARTS[63876208]: - AgendaSet\n",
      "ARTS[63876208]: - AgendaCreate\n",
      "ARTS[63876208]: - AgendaSet\n",
      "ARTS[63876208]: - AgendaCreate\n",
      "ARTS[63876208]: - AgendaSet\n",
      "ARTS[63876208]: - AgendaCreate\n",
      "ARTS[63876208]: - AgendaSet\n",
      "ARTS[63876208]: - AgendaCreate\n",
      "ARTS[63876208]: - AgendaSet\n",
      "ARTS[63876208]: - AgendaCreate\n",
      "ARTS[63876208]: - AgendaSet\n",
      "ARTS[63876208]: - AgendaCreate\n",
      "ARTS[63876208]: - AgendaSet\n",
      "ARTS[63876208]: - AgendaCreate\n",
      "ARTS[63876208]: - AgendaSet\n",
      "ARTS[63876208]: - AgendaCreate\n",
      "ARTS[63876208]: - AgendaSet\n",
      "ARTS[63876208]: - AgendaCreate\n",
      "ARTS[63876208]: - AgendaSet\n",
      "ARTS[63876208]: - AgendaCreate\n",
      "ARTS[63876208]: - AgendaSet\n",
      "ARTS[63876208]: - AgendaCreate\n",
      "ARTS[63876208]: - AgendaSet\n",
      "ARTS[63876208]: - AgendaCreate\n",
      "ARTS[63876208]: - AgendaSet\n",
      "ARTS[63876208]: - AgendaCreate\n",
      "ARTS[63876208]: - AgendaSet\n",
      "ARTS[63876208]: - FlagOff\n",
      "ARTS[63876208]: - AgendaCreate\n",
      "ARTS[63876208]: - AgendaSet\n",
      "ARTS[63876208]: - AgendaCreate\n",
      "ARTS[63876208]: - AgendaSet\n",
      "ARTS[63876208]: - AgendaCreate\n",
      "ARTS[63876208]: - AgendaSet\n",
      "ARTS[63876208]: - AgendaCreate\n",
      "ARTS[63876208]: - AgendaSet\n",
      "ARTS[63876208]: - AgendaCreate\n",
      "ARTS[63876208]: - AgendaSet\n",
      "ARTS[63876208]: - AgendaCreate\n",
      "ARTS[63876208]: - AgendaSet\n",
      "ARTS[63876208]: - FlagOff\n",
      "ARTS[63876208]: - AgendaCreate\n",
      "ARTS[63876208]: - AgendaSet\n",
      "ARTS[63876208]: - AgendaCreate\n",
      "ARTS[63876208]: - AgendaSet\n",
      "ARTS[63876208]: - AgendaCreate\n",
      "ARTS[63876208]: - AgendaSet\n",
      "ARTS[63876208]: - AgendaCreate\n",
      "ARTS[63876208]: - AgendaSet\n",
      "ARTS[63876208]: - AgendaCreate\n",
      "ARTS[63876208]: - AgendaSet\n",
      "ARTS[63876208]: - AgendaCreate\n",
      "ARTS[63876208]: - AgendaSet\n",
      "ARTS[63876208]: - AgendaCreate\n",
      "ARTS[63876208]: - AgendaSet\n",
      "ARTS[63876208]: - AgendaCreate\n",
      "ARTS[63876208]: - AgendaSet\n",
      "ARTS[63876208]: - AgendaCreate\n",
      "ARTS[63876208]: - AgendaSet\n",
      "ARTS[63876208]: - AgendaCreate\n",
      "ARTS[63876208]: - AgendaSet\n",
      "ARTS[63876208]: - AgendaCreate\n",
      "ARTS[63876208]: - AgendaSet\n",
      "ARTS[63876208]: - AgendaCreate\n",
      "ARTS[63876208]: - AgendaSet\n",
      "ARTS[63876208]: - AgendaCreate\n",
      "ARTS[63876208]: - AgendaSet\n",
      "ARTS[63876208]: - AgendaCreate\n",
      "ARTS[63876208]: - AgendaSet\n",
      "ARTS[63876208]: - AgendaCreate\n",
      "ARTS[63876208]: - AgendaSet\n",
      "ARTS[63876208]: - AgendaCreate\n",
      "ARTS[63876208]: - AgendaSet\n",
      "ARTS[63876208]: - AgendaCreate\n",
      "ARTS[63876208]: - AgendaSet\n",
      "ARTS[63876208]: }\n",
      "\n",
      "ARTS[63876208]: Executing /home/simon/src/arts_clean/controlfiles/general/continua.arts\n",
      "ARTS[63876208]: {\n",
      "ARTS[63876208]: - abs_cont_descriptionInit\n",
      "ARTS[63876208]: - abs_cont_descriptionAppend\n",
      "ARTS[63876208]: - abs_cont_descriptionAppend\n",
      "ARTS[63876208]: - abs_cont_descriptionAppend\n",
      "ARTS[63876208]: - abs_cont_descriptionAppend\n",
      "ARTS[63876208]: - abs_cont_descriptionAppend\n",
      "ARTS[63876208]: - abs_cont_descriptionAppend\n",
      "ARTS[63876208]: - abs_cont_descriptionAppend\n",
      "ARTS[63876208]: - abs_cont_descriptionAppend\n",
      "ARTS[63876208]: - abs_cont_descriptionAppend\n",
      "ARTS[63876208]: - abs_cont_descriptionAppend\n",
      "ARTS[63876208]: - abs_cont_descriptionAppend\n",
      "ARTS[63876208]: - abs_cont_descriptionAppend\n",
      "ARTS[63876208]: - abs_cont_descriptionAppend\n",
      "ARTS[63876208]: - abs_cont_descriptionAppend\n",
      "ARTS[63876208]: - abs_cont_descriptionAppend\n",
      "ARTS[63876208]: - abs_cont_descriptionAppend\n",
      "ARTS[63876208]: - abs_cont_descriptionAppend\n",
      "ARTS[63876208]: - abs_cont_descriptionAppend\n",
      "ARTS[63876208]: - abs_cont_descriptionAppend\n",
      "ARTS[63876208]: - abs_cont_descriptionAppend\n",
      "ARTS[63876208]: - abs_cont_descriptionAppend\n",
      "ARTS[63876208]: - abs_cont_descriptionAppend\n",
      "ARTS[63876208]: - abs_cont_descriptionAppend\n",
      "ARTS[63876208]: - abs_cont_descriptionAppend\n",
      "ARTS[63876208]: - abs_cont_descriptionAppend\n",
      "ARTS[63876208]: - abs_cont_descriptionAppend\n",
      "ARTS[63876208]: - abs_cont_descriptionAppend\n",
      "ARTS[63876208]: - abs_cont_descriptionAppend\n",
      "ARTS[63876208]: - abs_cont_descriptionAppend\n",
      "ARTS[63876208]: - abs_cont_descriptionAppend\n",
      "ARTS[63876208]: - abs_cont_descriptionAppend\n",
      "ARTS[63876208]: - abs_cont_descriptionAppend\n",
      "ARTS[63876208]: - abs_cont_descriptionAppend\n",
      "ARTS[63876208]: - abs_cont_descriptionAppend\n",
      "ARTS[63876208]: - abs_cont_descriptionAppend\n",
      "ARTS[63876208]: - abs_cont_descriptionAppend\n",
      "ARTS[63876208]: - abs_cont_descriptionAppend\n",
      "ARTS[63876208]: - abs_cont_descriptionAppend\n",
      "ARTS[63876208]: - abs_cont_descriptionAppend\n",
      "ARTS[63876208]: - abs_cont_descriptionAppend\n",
      "ARTS[63876208]: - abs_cont_descriptionAppend\n",
      "ARTS[63876208]: - abs_cont_descriptionAppend\n",
      "ARTS[63876208]: - abs_cont_descriptionAppend\n",
      "ARTS[63876208]: - abs_cont_descriptionAppend\n",
      "ARTS[63876208]: - abs_cont_descriptionAppend\n",
      "ARTS[63876208]: - abs_cont_descriptionAppend\n",
      "ARTS[63876208]: - abs_cont_descriptionAppend\n",
      "ARTS[63876208]: - abs_cont_descriptionAppend\n",
      "ARTS[63876208]: - abs_cont_descriptionAppend\n",
      "ARTS[63876208]: - abs_cont_descriptionAppend\n",
      "ARTS[63876208]: - abs_cont_descriptionAppend\n",
      "ARTS[63876208]: - abs_cont_descriptionAppend\n",
      "ARTS[63876208]: - abs_cont_descriptionAppend\n",
      "ARTS[63876208]: - abs_cont_descriptionAppend\n",
      "ARTS[63876208]: - abs_cont_descriptionAppend\n",
      "ARTS[63876208]: - abs_cont_descriptionAppend\n",
      "ARTS[63876208]: }\n",
      "\n",
      "ARTS[63876208]: Executing /home/simon/src/arts_clean/controlfiles/general/planet_earth.arts\n",
      "ARTS[63876208]: {\n",
      "ARTS[63876208]: - isotopologue_ratiosInitFromBuiltin\n",
      "ARTS[63876208]: - refellipsoidEarth\n",
      "ARTS[63876208]: - NumericSet\n",
      "ARTS[63876208]: - AgendaSet\n",
      "ARTS[63876208]: - NumericSet\n",
      "ARTS[63876208]: }\n",
      "\n"
     ]
    }
   ],
   "source": [
    "ws = Workspace()\n",
    "\n",
    "ws.execute_controlfile(\"general/general.arts\")\n",
    "ws.execute_controlfile(\"general/agendas.arts\")\n",
    "ws.execute_controlfile(\"general/continua.arts\")\n",
    "ws.execute_controlfile(\"general/planet_earth.arts\")\n",
    "\n",
    "ws.Copy(ws.abs_xsec_agenda,   ws.abs_xsec_agenda__noCIA)\n",
    "ws.Copy(ws.ppath_agenda,      ws.ppath_agenda__FollowSensorLosPath)\n",
    "ws.Copy(ws.ppath_step_agenda, ws.ppath_step_agenda__GeometricPath)\n",
    "ws.Copy(ws.iy_space_agenda,   ws.iy_space_agenda__CosmicBackground)\n",
    "ws.Copy(ws.iy_surface_agenda, ws.iy_surface_agenda__UseSurfaceRtprop)\n",
    "ws.Copy(ws.iy_main_agenda,    ws.iy_main_agenda__Emission)\n",
    "ws.Copy(ws.propmat_clearsky_agenda, ws.propmat_clearsky_agenda__OnTheFly)\n"
   ]
  },
  {
   "cell_type": "markdown",
   "metadata": {},
   "source": [
    "## General Settings\n",
    "\n",
    "For the wind retrievals, the forward model calculations are performed on a 3D atmosphere grid.\n",
    "Radiation is assumed to be unpolarized."
   ]
  },
  {
   "cell_type": "code",
   "execution_count": 3,
   "metadata": {
    "collapsed": true
   },
   "outputs": [],
   "source": [
    "ws.atmosphere_dim = 3\n",
    "ws.stokes_dim     = 1\n",
    "ws.iy_unit = \"RJBT\""
   ]
  },
  {
   "cell_type": "markdown",
   "metadata": {},
   "source": [
    "## Absorption\n",
    "\n",
    "We only consider absorption from ozone in this example. The lineshape data is available from\n",
    "the ARTS testdata available in `controlfiles/testdata`."
   ]
  },
  {
   "cell_type": "code",
   "execution_count": 4,
   "metadata": {},
   "outputs": [],
   "source": [
    "ws.abs_speciesSet([\"O3\", \"H2O-PWR98\"])\n",
    "ws.abs_lineshapeDefine(\"Voigt_Kuntz6\", \"VVH\", 750e9)\n",
    "ws.ReadXML(ws.abs_lines, \"testdata/ozone_line.xml\")\n",
    "ws.abs_lines_per_speciesCreateFromLines()"
   ]
  },
  {
   "cell_type": "markdown",
   "metadata": {},
   "source": [
    "## Atmosphere (A Priori)\n",
    "\n",
    "We create a pressure grid using the `PFromZSimple` function to create a grid of approximate pressure levels corresponding to altitudes in the range\n",
    "\n",
    "$$\n",
    "z = 0.0, 2000.0, \\dots, 94000.0\n",
    "$$"
   ]
  },
  {
   "cell_type": "code",
   "execution_count": 5,
   "metadata": {
    "collapsed": true
   },
   "outputs": [],
   "source": [
    "z_toa  = 95e3;\n",
    "z_surf = 1e3;\n",
    "z_grid = np.arange(z_surf - 1e3, z_toa, 2e3)\n",
    "ws.PFromZSimple(ws.p_grid, z_grid)\n",
    "ws.lat_grid = np.arange(-40.0, 1.0, 40.0)\n",
    "ws.lon_grid = np.arange(40.0, 61.0, 20.0)\n",
    "ws.z_surface = z_surf * np.ones((np.asarray(ws.lat_grid).size,\n",
    "                                 np.asarray(ws.lon_grid).size))"
   ]
  },
  {
   "cell_type": "markdown",
   "metadata": {},
   "source": [
    "For the a priori state we read data from the Fascod climatology that is part of the ARTS xml data."
   ]
  },
  {
   "cell_type": "code",
   "execution_count": 6,
   "metadata": {
    "collapsed": true
   },
   "outputs": [],
   "source": [
    "ws.AtmRawRead(basename = \"planets/Earth/Fascod/tropical/tropical\")\n",
    "ws.AtmFieldsCalcExpand1D()"
   ]
  },
  {
   "cell_type": "markdown",
   "metadata": {},
   "source": [
    "## Adding Wind\n",
    "\n",
    "Wind in ARTS is represented by the `wind_u_field` and `wind_v_field` WSVs, which hold the horizontal components of the wind at each grid point of the atmosphere model. For this example, a constant wind is assumed."
   ]
  },
  {
   "cell_type": "code",
   "execution_count": 7,
   "metadata": {
    "collapsed": true
   },
   "outputs": [],
   "source": [
    "u_wind = 60.0\n",
    "v_wind = -40.0\n",
    "ws.wind_u_field = u_wind * np.ones((ws.p_grid.value.size,\n",
    "                                    ws.lat_grid.value.size,\n",
    "                                    ws.lon_grid.value.size))\n",
    "ws.wind_v_field = v_wind * np.ones((ws.p_grid.value.size,\n",
    "                                    ws.lat_grid.value.size,\n",
    "                                    ws.lon_grid.value.size))\n",
    "ws.wind_w_field = np.zeros((0,0,0))"
   ]
  },
  {
   "cell_type": "markdown",
   "metadata": {},
   "source": [
    "## Frequency Grid and Sensor\n",
    "\n",
    "The frequency grid for the simulation consists of 119 grid\n",
    "points between 110.516 and 111.156 GHz. The frequencies\n",
    "are given by a degree-10 polynomial that has been obtained from a fit to the data from the original `qpack` example. This is obscure but also kind of cool."
   ]
  },
  {
   "cell_type": "code",
   "execution_count": 9,
   "metadata": {},
   "outputs": [
    {
     "data": {
      "text/plain": [
       "<matplotlib.text.Text at 0x7f71b5c877f0>"
      ]
     },
     "execution_count": 9,
     "metadata": {},
     "output_type": "execute_result"
    },
    {
     "data": {
      "image/png": "[encoded data removed]",
      "text/plain": [
       "<matplotlib.figure.Figure at 0x7f71b836f780>"
      ]
     },
     "metadata": {},
     "output_type": "display_data"
    }
   ],
   "source": [
    "coeffs = np.array([5.06312189e-08, -2.68851772e-05, 6.20655463e-03,\n",
    "                   -8.16344090e-01,   6.75337174e+01,  -3.66786505e+03,\n",
    "                   1.32578167e+05,  -3.14514304e+06,   4.57491354e+07,\n",
    "                   1.10516484e+11])\n",
    "ws.f_grid = np.poly1d(coeffs)(np.arange(119))\n",
    "\n",
    "plt.plot(ws.f_grid.value * 1e-9)\n",
    "plt.xlabel(\"Channel Number\")\n",
    "plt.ylabel(\"Frequency [GHz]\")\n",
    "\n"
   ]
  },
  {
   "cell_type": "markdown",
   "metadata": {},
   "source": [
    "For the sensor we assume a channel width and channel spacing of 50 kHz. We also call `AntennaOff` to compute\n",
    "only one pencilbeam along the line of sight of the sensor."
   ]
  },
  {
   "cell_type": "code",
   "execution_count": 10,
   "metadata": {
    "collapsed": true
   },
   "outputs": [],
   "source": [
    "df = 50e3\n",
    "f_backend = np.arange(ws.f_grid.value.min() + 2.0 * df, ws.f_grid.value.max() - 2.0 * df, df)\n",
    "ws.backend_channel_responseGaussian(np.array([df]), np.array([2.0]))\n",
    "ws.AntennaOff()\n",
    "\n",
    "ws.sensor_norm = 1\n",
    "ws.sensor_time = np.zeros(1)\n",
    "ws.sensor_responseInit()"
   ]
  },
  {
   "cell_type": "markdown",
   "metadata": {},
   "source": [
    "### Sensor Position and Viewing Geometry\n",
    "\n",
    "5 Measurements are performed, one straight up, and four with zenith angle $70^\\circ$ in directions SW, NW, NE, SE. In ARTS the measurement directions are given by a two-column matrix, where the first column contains the zenith angle and the second column the azimuth angle."
   ]
  },
  {
   "cell_type": "code",
   "execution_count": 11,
   "metadata": {
    "collapsed": true
   },
   "outputs": [],
   "source": [
    "ws.sensor_los = np.array([[0.0, 0.0,],\n",
    "                          [70.0, -135.0],\n",
    "                          [70.0, -45.0],\n",
    "                          [70.0, 45.0],\n",
    "                          [70.0, 135.0]])\n",
    "ws.sensor_pos = np.array([[2000.0, -21.1, 55.6]] * 5)"
   ]
  },
  {
   "cell_type": "markdown",
   "metadata": {
    "collapsed": true
   },
   "source": [
    "## Reference Measurement\n",
    "\n",
    "Before we can calculate `y`, our setup needs to pass the following tests:"
   ]
  },
  {
   "cell_type": "code",
   "execution_count": 12,
   "metadata": {
    "collapsed": true
   },
   "outputs": [],
   "source": [
    "ws.abs_f_interp_order = 3\n",
    "ws.propmat_clearsky_agenda_checkedCalc()\n",
    "ws.sensor_checkedCalc()\n",
    "ws.atmgeom_checkedCalc()\n",
    "ws.atmfields_checkedCalc()\n",
    "ws.abs_xsec_agenda_checkedCalc()\n",
    "ws.cloudboxOff()\n",
    "ws.jacobianOff()\n",
    "ws.cloudbox_checkedCalc()"
   ]
  },
  {
   "cell_type": "markdown",
   "metadata": {},
   "source": [
    "Now, we can run the simulation using the `yCalc` WSM and display the results. The results for all 5 measurements are stacked in `ws.y`."
   ]
  },
  {
   "cell_type": "code",
   "execution_count": 13,
   "metadata": {},
   "outputs": [
    {
     "data": {
      "text/plain": [
       "<matplotlib.legend.Legend at 0x7f71d398e518>"
      ]
     },
     "execution_count": 13,
     "metadata": {},
     "output_type": "execute_result"
    },
    {
     "data": {
      "image/png": "[encoded data removed]",
      "text/plain": [
       "<matplotlib.figure.Figure at 0x7f71c2b11eb8>"
      ]
     },
     "metadata": {},
     "output_type": "display_data"
    }
   ],
   "source": [
    "ws.yCalc()\n",
    "\n",
    "# Plot results\n",
    "y = np.copy(ws.y)\n",
    "f = np.asarray(ws.f_grid)\n",
    "labels = [\"Up\", \"SW\", \"NW\", \"NE\", \"SE\"]\n",
    "for i,l in zip(range(0, y.size, y.size // 5), labels):\n",
    "    plt.plot(f * 1e-9, y[i:i+f.size], label=l)\n",
    "plt.xlabel(\"f [GHz]\")\n",
    "plt.xscale(\"log\")\n",
    "plt.yscale(\"log\")\n",
    "plt.ylabel(\"RJBT\")\n",
    "plt.ylabel(\"RJBT\")\n",
    "plt.legend()"
   ]
  },
  {
   "cell_type": "markdown",
   "metadata": {
    "collapsed": true
   },
   "source": [
    "## Setting up the Retrieval\n",
    "\n",
    "In this example, we retrieve ozone, the horizontal and vertical components of the wind velocities as well as a frequency shift and a polynomial baseline."
   ]
  },
  {
   "cell_type": "code",
   "execution_count": 15,
   "metadata": {},
   "outputs": [
    {
     "data": {
      "text/plain": [
       "(array([ 50.]), array([-20.]))"
      ]
     },
     "execution_count": 15,
     "metadata": {},
     "output_type": "execute_result"
    },
    {
     "data": {
      "image/png": "[encoded data removed]",
      "text/plain": [
       "<matplotlib.figure.Figure at 0x7f71b5c90c50>"
      ]
     },
     "metadata": {},
     "output_type": "display_data"
    }
   ],
   "source": [
    "lat_ret_grid = np.array([np.mean(ws.lat_grid)])\n",
    "lon_ret_grid = np.array([np.mean(ws.lon_grid)])\n",
    "n_p = ws.p_grid.value.size\n",
    "\n",
    "ws.retrievalDefInit()\n",
    "ws.covmat1D(grid_1 = z_grid,\n",
    "           sigma_1 = 0.1  * np.ones(n_p), # Relative uncertainty\n",
    "           cls_1   = 10e3 * np.ones(n_p), # 10km correlation length\n",
    "           fname   = \"lin\")\n",
    "ws.retrievalAddAbsSpecies(species = \"O3\",\n",
    "                          unit    = \"rel\",\n",
    "                          g1      = ws.p_grid,\n",
    "                          g2      = lat_ret_grid,\n",
    "                          g3      = lon_ret_grid)\n",
    "# Wind u-component\n",
    "ws.covmat1D(grid_1 = z_grid[::2],\n",
    "           sigma_1 = 100.0  * np.ones(n_p // 2), # Relative uncertainty\n",
    "           cls_1   = 10e3 * np.ones(n_p // 2), # 10km correlation length\n",
    "           fname   = \"lin\")\n",
    "plt.imshow(ws.covmat_block.value.toarray())\n",
    "plt.colorbar()\n",
    "ws.retrievalAddWind(g1 = ws.p_grid.value[::2],\n",
    "                    g2 = np.array([np.mean(ws.lat_grid)]),\n",
    "                    g3 = np.array([np.mean(ws.lon_grid)]),\n",
    "                    component = \"u\")\n",
    "# Wind v-component\n",
    "ws.covmat1D(grid_1 = z_grid[::2],\n",
    "           sigma_1 = 100.0  * np.ones(n_p // 2), # Relative uncertainty\n",
    "           cls_1   = 10e3 * np.ones(n_p // 2), # 10km correlation length\n",
    "           fname   = \"lin\")\n",
    "ws.retrievalAddWind(g1 = ws.p_grid.value[::2],\n",
    "                    g2 = np.array([np.mean(ws.lat_grid)]),\n",
    "                    g3 = np.array([np.mean(ws.lon_grid)]),\n",
    "                    component = \"v\")\n",
    "ws.retrievalDefClose()\n",
    "ws.covmatDiagonal(0.000001 * np.ones(ws.y.value.shape))\n",
    "ws.covmat_seSet()\n",
    "ws.p_grid.value[::2].shape\n",
    "(lon_ret_grid, lat_ret_grid)"
   ]
  },
  {
   "cell_type": "code",
   "execution_count": 16,
   "metadata": {
    "collapsed": true,
    "scrolled": true
   },
   "outputs": [],
   "source": [
    "@arts_agenda\n",
    "def inversion_iterate_agenda(ws):\n",
    "    ws.x2artsStandard()  \n",
    "    ws.atmfields_checkedCalc()\n",
    "    ws.atmgeom_checkedCalc()\n",
    "    ws.yCalc()\n",
    "    ws.Print(ws.y)\n",
    "    ws.Print(ws.jacobian)\n",
    "    ws.VectorAddVector( ws.yf, ws.y, ws.y_baseline )\n",
    "    ws.jacobianAdjustAfterIteration() \n",
    "    \n",
    "ws.Copy(ws.inversion_iterate_agenda, inversion_iterate_agenda)"
   ]
  },
  {
   "cell_type": "markdown",
   "metadata": {},
   "source": [
    "## Jacobian\n",
    "\n",
    "Let's have a look at the Jacobian to make sure our setup is sound."
   ]
  },
  {
   "cell_type": "code",
   "execution_count": null,
   "metadata": {
    "collapsed": true
   },
   "outputs": [],
   "source": [
    "ws.jacobian_do = 1\n",
    "ws.yCalc()"
   ]
  },
  {
   "cell_type": "markdown",
   "metadata": {},
   "source": [
    "## Ozone"
   ]
  },
  {
   "cell_type": "code",
   "execution_count": 32,
   "metadata": {},
   "outputs": [
    {
     "data": {
      "image/png": "[encoded data removed]",
      "text/plain": [
       "<matplotlib.figure.Figure at 0x7f71ae155390>"
      ]
     },
     "metadata": {},
     "output_type": "display_data"
    }
   ],
   "source": [
    "f, axs = plt.subplots(3,2, figsize=(12,6))\n",
    "n_meas = ws.y.value.size // 5\n",
    "for i in range(6):\n",
    "    if i < 5:\n",
    "        i_start = n_meas * i\n",
    "        i_end   = n_meas * (i + 1)\n",
    "        axs.ravel()[i].imshow(ws.jacobian.value[i_start:i_end, :n_p],\n",
    "                              aspect=0.25)\n",
    "        axs.ravel()[i].set_title(labels[i])\n",
    "    else:\n",
    "        axs.ravel()[i].axis(\"off\")\n",
    "plt.tight_layout()"
   ]
  },
  {
   "cell_type": "markdown",
   "metadata": {
    "collapsed": true
   },
   "source": [
    "## Zonal Winds\n",
    "\n",
    "For zonal winds we plot the logarithm of the absolute value to visualize the different sensitivity scales throughout the model atmosphere."
   ]
  },
  {
   "cell_type": "code",
   "execution_count": 37,
   "metadata": {},
   "outputs": [
    {
     "data": {
      "image/png": "[encoded data removed]",
      "text/plain": [
       "<matplotlib.figure.Figure at 0x7f71ae11e2b0>"
      ]
     },
     "metadata": {},
     "output_type": "display_data"
    }
   ],
   "source": [
    "f, axs = plt.subplots(3,2, figsize=(12,6))\n",
    "n_meas = ws.y.value.size // 5\n",
    "for i in range(6):\n",
    "    if i < 5:\n",
    "        i_start = n_meas * i\n",
    "        i_end   = n_meas * (i + 1)\n",
    "        axs.ravel()[i].imshow(np.log(np.abs(ws.jacobian.value[i_start:i_end, n_p:3*n_p//2])),\n",
    "                              aspect=0.25)\n",
    "        axs.ravel()[i].set_title(labels[i])\n",
    "    else:\n",
    "        axs.ravel()[i].axis(\"off\")\n",
    "plt.tight_layout()"
   ]
  },
  {
   "cell_type": "markdown",
   "metadata": {},
   "source": [
    "## Meridional Winds"
   ]
  },
  {
   "cell_type": "code",
   "execution_count": 38,
   "metadata": {},
   "outputs": [
    {
     "data": {
      "image/png": "[encoded data removed]",
      "text/plain": [
       "<matplotlib.figure.Figure at 0x7f71b43392e8>"
      ]
     },
     "metadata": {},
     "output_type": "display_data"
    }
   ],
   "source": [
    "f, axs = plt.subplots(3,2, figsize=(12,6))\n",
    "n_meas = ws.y.value.size // 5\n",
    "for i in range(6):\n",
    "    if i < 5:\n",
    "        i_start = n_meas * i\n",
    "        i_end   = n_meas * (i + 1)\n",
    "        axs.ravel()[i].imshow(np.log(np.abs(ws.jacobian.value[i_start:i_end, n_p:3*n_p//2])),\n",
    "                              aspect=0.25)\n",
    "        axs.ravel()[i].set_title(labels[i])\n",
    "    else:\n",
    "        axs.ravel()[i].axis(\"off\")\n",
    "plt.tight_layout()"
   ]
  },
  {
   "cell_type": "markdown",
   "metadata": {},
   "source": [
    "## A Priori State\n",
    "\n",
    "For the a priori state we assume zero wind in any direction. The a priori vector for the OEM is created by the `xaStandard` WSM, which computes $x_a$ from the current atmospheric state."
   ]
  },
  {
   "cell_type": "code",
   "execution_count": 20,
   "metadata": {
    "collapsed": true
   },
   "outputs": [],
   "source": [
    "ws.wind_u_field.value[:] = 0.0\n",
    "ws.wind_v_field.value[:] = 0.0\n",
    "ws.xaStandard()"
   ]
  },
  {
   "cell_type": "markdown",
   "metadata": {},
   "source": [
    "# The OEM Calculation"
   ]
  },
  {
   "cell_type": "code",
   "execution_count": 21,
   "metadata": {},
   "outputs": [
    {
     "name": "stdout",
     "output_type": "stream",
     "text": [
      "ARTS[63876208]: \n",
      "ARTS[63876208]:                                 MAP Computation                                \n",
      "ARTS[63876208]: Formulation: Standard\n",
      "ARTS[63876208]: Method:      Levenberg-Marquardt\n",
      "ARTS[63876208]: \n",
      "ARTS[63876208]:  Step     Total Cost         x-Cost         y-Cost    Conv. Crit.   Gamma Factor\n",
      "ARTS[63876208]: --------------------------------------------------------------------------------\n",
      "ARTS[63876208]:     0        188.192              0        188.192                    100.000000\n",
      "ARTS[63876208]:     1        187.637     0.00986398        187.627        3.30022      50.000000\n",
      "ARTS[63876208]:     2        187.596     0.00999791        187.586     0.00019006      25.000000\n",
      "ARTS[63876208]:     3        187.513      0.0100476        187.503     0.00054527      12.500000\n",
      "ARTS[63876208]:     4        187.348      0.0100523        187.338    0.000269265       6.250000\n",
      "ARTS[63876208]:     5        187.018      0.0100757        187.008     0.00100736       3.125000\n",
      "ARTS[63876208]:     6        186.361      0.0101604        186.351     0.00401679       1.562500\n",
      "ARTS[63876208]:     7        185.056      0.0104858        185.045      0.0161406       0.000000\n",
      "ARTS[63876208]:     8       0.519363      0.0138848       0.505478        1145.91       0.000000\n",
      "ARTS[63876208]:     9       0.438351     0.00336037        0.43499        3.19561       0.000000\n",
      "ARTS[63876208]:    10     0.00408092     0.00356958    0.000511345        2.68926       0.000000\n",
      "ARTS[63876208]:    11     0.00402167     0.00356955    0.000452118    0.000367247       0.000000\n",
      "ARTS[63876208]: --------------------------------------------------------------------------------\n",
      "ARTS[63876208]: \n",
      "ARTS[63876208]: Total number of steps:            11\n",
      "ARTS[63876208]: Final scaled cost function value: 0.00402167\n",
      "ARTS[63876208]: OEM computation converged.\n",
      "ARTS[63876208]: \n",
      "ARTS[63876208]: Elapsed Time for Retrieval:                       4.95437\n",
      "ARTS[63876208]: Time in inversion_iterate Agenda (No Jacobian):   2.61488\n",
      "ARTS[63876208]: Time in inversion_iterate Agenda (With Jacobian): 2.32035\n",
      "ARTS[63876208]: \n",
      "ARTS[63876208]:                                       ----                                      \n",
      "ARTS[63876208]: \n",
      "\n"
     ]
    }
   ],
   "source": [
    "ws.x        = np.zeros(0)\n",
    "ws.jacobian = np.zeros((0,0))\n",
    "ws.y.value[:] = y\n",
    "ws.OEM(method=\"lm\", max_iter=20, display_progress=1,\n",
    "       lm_ga_settings=np.array([100.0,2.0,2.0,10.0,1.0,1.0]))\n"
   ]
  },
  {
   "cell_type": "code",
   "execution_count": 22,
   "metadata": {
    "collapsed": true
   },
   "outputs": [],
   "source": [
    "ws.x2artsStandard()"
   ]
  },
  {
   "cell_type": "code",
   "execution_count": 23,
   "metadata": {},
   "outputs": [
    {
     "data": {
      "text/plain": [
       "array([[[ 33.94486288,  33.94486288],\n",
       "        [ 33.94486288,  33.94486288]],\n",
       "\n",
       "       [[ 44.85379493,  44.85379493],\n",
       "        [ 44.85379493,  44.85379493]],\n",
       "\n",
       "       [[ 37.32020583,  37.32020583],\n",
       "        [ 37.32020583,  37.32020583]],\n",
       "\n",
       "       [[ 26.14050293,  26.14050293],\n",
       "        [ 26.14050293,  26.14050293]],\n",
       "\n",
       "       [[ 14.28282893,  14.28282893],\n",
       "        [ 14.28282893,  14.28282893]],\n",
       "\n",
       "       [[  3.00860707,   3.00860707],\n",
       "        [  3.00860707,   3.00860707]],\n",
       "\n",
       "       [[  1.25624295,   1.25624295],\n",
       "        [  1.25624295,   1.25624295]],\n",
       "\n",
       "       [[  2.31492751,   2.31492751],\n",
       "        [  2.31492751,   2.31492751]],\n",
       "\n",
       "       [[  5.57436935,   5.57436935],\n",
       "        [  5.57436935,   5.57436935]],\n",
       "\n",
       "       [[ 12.22122526,  12.22122526],\n",
       "        [ 12.22122526,  12.22122526]],\n",
       "\n",
       "       [[ 22.88857957,  22.88857957],\n",
       "        [ 22.88857957,  22.88857957]],\n",
       "\n",
       "       [[ 36.4354236 ,  36.4354236 ],\n",
       "        [ 36.4354236 ,  36.4354236 ]],\n",
       "\n",
       "       [[ 50.13837657,  50.13837657],\n",
       "        [ 50.13837657,  50.13837657]],\n",
       "\n",
       "       [[ 59.9434465 ,  59.9434465 ],\n",
       "        [ 59.9434465 ,  59.9434465 ]],\n",
       "\n",
       "       [[ 63.7392882 ,  63.7392882 ],\n",
       "        [ 63.7392882 ,  63.7392882 ]],\n",
       "\n",
       "       [[ 62.79279237,  62.79279237],\n",
       "        [ 62.79279237,  62.79279237]],\n",
       "\n",
       "       [[ 60.55846432,  60.55846432],\n",
       "        [ 60.55846432,  60.55846432]],\n",
       "\n",
       "       [[ 59.79236649,  59.79236649],\n",
       "        [ 59.79236649,  59.79236649]],\n",
       "\n",
       "       [[ 59.79419247,  59.79419247],\n",
       "        [ 59.79419247,  59.79419247]],\n",
       "\n",
       "       [[ 57.26282552,  57.26282552],\n",
       "        [ 57.26282552,  57.26282552]],\n",
       "\n",
       "       [[ 61.62351077,  61.62351077],\n",
       "        [ 61.62351077,  61.62351077]],\n",
       "\n",
       "       [[ 61.0761417 ,  61.0761417 ],\n",
       "        [ 61.0761417 ,  61.0761417 ]],\n",
       "\n",
       "       [[ 59.18086231,  59.18086231],\n",
       "        [ 59.18086231,  59.18086231]],\n",
       "\n",
       "       [[ 60.00049401,  60.00049401],\n",
       "        [ 60.00049401,  60.00049401]],\n",
       "\n",
       "       [[ 60.00049401,  60.00049401],\n",
       "        [ 60.00049401,  60.00049401]],\n",
       "\n",
       "       [[ 60.00049401,  60.00049401],\n",
       "        [ 60.00049401,  60.00049401]],\n",
       "\n",
       "       [[ 60.00049401,  60.00049401],\n",
       "        [ 60.00049401,  60.00049401]],\n",
       "\n",
       "       [[ 60.00049401,  60.00049401],\n",
       "        [ 60.00049401,  60.00049401]],\n",
       "\n",
       "       [[ 60.00049401,  60.00049401],\n",
       "        [ 60.00049401,  60.00049401]],\n",
       "\n",
       "       [[ 60.00049401,  60.00049401],\n",
       "        [ 60.00049401,  60.00049401]],\n",
       "\n",
       "       [[ 60.00049401,  60.00049401],\n",
       "        [ 60.00049401,  60.00049401]],\n",
       "\n",
       "       [[ 60.00049401,  60.00049401],\n",
       "        [ 60.00049401,  60.00049401]],\n",
       "\n",
       "       [[ 60.00049401,  60.00049401],\n",
       "        [ 60.00049401,  60.00049401]],\n",
       "\n",
       "       [[ 60.00049401,  60.00049401],\n",
       "        [ 60.00049401,  60.00049401]],\n",
       "\n",
       "       [[ 60.00049401,  60.00049401],\n",
       "        [ 60.00049401,  60.00049401]],\n",
       "\n",
       "       [[ 60.00049401,  60.00049401],\n",
       "        [ 60.00049401,  60.00049401]],\n",
       "\n",
       "       [[ 60.00049401,  60.00049401],\n",
       "        [ 60.00049401,  60.00049401]],\n",
       "\n",
       "       [[ 60.00049401,  60.00049401],\n",
       "        [ 60.00049401,  60.00049401]],\n",
       "\n",
       "       [[ 60.00049401,  60.00049401],\n",
       "        [ 60.00049401,  60.00049401]],\n",
       "\n",
       "       [[ 60.00049401,  60.00049401],\n",
       "        [ 60.00049401,  60.00049401]],\n",
       "\n",
       "       [[ 60.00049401,  60.00049401],\n",
       "        [ 60.00049401,  60.00049401]],\n",
       "\n",
       "       [[ 60.00049401,  60.00049401],\n",
       "        [ 60.00049401,  60.00049401]],\n",
       "\n",
       "       [[ 60.00049401,  60.00049401],\n",
       "        [ 60.00049401,  60.00049401]],\n",
       "\n",
       "       [[ 60.00049401,  60.00049401],\n",
       "        [ 60.00049401,  60.00049401]],\n",
       "\n",
       "       [[ 60.00049401,  60.00049401],\n",
       "        [ 60.00049401,  60.00049401]],\n",
       "\n",
       "       [[ 60.00049401,  60.00049401],\n",
       "        [ 60.00049401,  60.00049401]],\n",
       "\n",
       "       [[ 60.00049401,  60.00049401],\n",
       "        [ 60.00049401,  60.00049401]],\n",
       "\n",
       "       [[ 60.00049401,  60.00049401],\n",
       "        [ 60.00049401,  60.00049401]]])"
      ]
     },
     "execution_count": 23,
     "metadata": {},
     "output_type": "execute_result"
    }
   ],
   "source": [
    "ws.wind_u_field.value"
   ]
  }
 ],
 "metadata": {
  "kernelspec": {
   "display_name": "Python 3",
   "language": "python",
   "name": "python3"
  },
  "language_info": {
   "codemirror_mode": {
    "name": "ipython",
    "version": 3
   },
   "file_extension": ".py",
   "mimetype": "text/x-python",
   "name": "python",
   "nbconvert_exporter": "python",
   "pygments_lexer": "ipython3",
   "version": "3.6.1"
  }
 },
 "nbformat": 4,
 "nbformat_minor": 2
}
