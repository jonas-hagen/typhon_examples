{
 "cells": [
  {
   "cell_type": "markdown",
   "metadata": {},
   "source": [
    "# 3D Wind Retrievals"
   ]
  },
  {
   "cell_type": "code",
   "execution_count": 1,
   "metadata": {},
   "outputs": [
    {
     "name": "stdout",
     "output_type": "stream",
     "text": [
      "env: ARTS_INCLUDE_PATH=/home/simon/src/arts_clean/controlfiles/\n",
      "env: ARTS_DATA_PATH=/home/simon/src/arts_xml/\n",
      "env: ARTS_BUILD_PATH=/home/simon/build/arts_production/arts\n",
      "Loading ARTS API from: /home/simon/build/arts_production/arts/src/arts_api.so\n"
     ]
    }
   ],
   "source": [
    "%env ARTS_INCLUDE_PATH=/home/simon/src/arts_clean/controlfiles/\n",
    "%env ARTS_DATA_PATH=/home/simon/src/arts_xml/\n",
    "%env ARTS_BUILD_PATH=/home/simon/build/arts_production/arts\n",
    "\n",
    "%matplotlib inline\n",
    "import numpy as np\n",
    "import matplotlib.pyplot as plt\n",
    "\n",
    "from typhon.arts.workspace import Workspace"
   ]
  },
  {
   "cell_type": "markdown",
   "metadata": {},
   "source": [
    "This notebook is essentially a transcript of the `qpack_wind3d_demo.m` script which uses a\n",
    "three-dimensional atmosphere to retrieve wind speeds."
   ]
  },
  {
   "cell_type": "code",
   "execution_count": 16,
   "metadata": {},
   "outputs": [],
   "source": [
    "ws = Workspace()\n",
    "\n",
    "ws.execute_controlfile(\"general/general.arts\")\n",
    "ws.execute_controlfile(\"general/agendas.arts\")\n",
    "ws.execute_controlfile(\"general/continua.arts\")\n",
    "ws.execute_controlfile(\"general/planet_earth.arts\")\n",
    "\n",
    "ws.Copy(ws.abs_xsec_agenda,   ws.abs_xsec_agenda__noCIA)\n",
    "ws.Copy(ws.ppath_agenda,      ws.ppath_agenda__FollowSensorLosPath)\n",
    "ws.Copy(ws.ppath_step_agenda, ws.ppath_step_agenda__GeometricPath)\n",
    "ws.Copy(ws.iy_space_agenda,   ws.iy_space_agenda__CosmicBackground)\n",
    "ws.Copy(ws.iy_surface_agenda, ws.iy_surface_agenda__UseSurfaceRtprop)\n",
    "ws.Copy(ws.iy_main_agenda,    ws.iy_main_agenda__Emission)\n",
    "ws.Copy(ws.propmat_clearsky_agenda, ws.propmat_clearsky_agenda__OnTheFly)\n"
   ]
  },
  {
   "cell_type": "markdown",
   "metadata": {},
   "source": [
    "## General Settings\n",
    "\n",
    "For the wind retrievals, the forward model calculations are performed on a 3D atmosphere grid.\n",
    "Radiation is assumed to be unpolarized."
   ]
  },
  {
   "cell_type": "code",
   "execution_count": 17,
   "metadata": {
    "collapsed": true
   },
   "outputs": [],
   "source": [
    "ws.atmosphere_dim = 3\n",
    "ws.stokes_dim     = 1\n",
    "ws.iy_unit = \"RJBT\""
   ]
  },
  {
   "cell_type": "markdown",
   "metadata": {},
   "source": [
    "## Absorption\n",
    "\n",
    "We only consider absorption from ozone in this example. The lineshape data is available from\n",
    "the ARTS testdata available in `controlfiles/testdata`."
   ]
  },
  {
   "cell_type": "code",
   "execution_count": 18,
   "metadata": {
    "collapsed": true
   },
   "outputs": [],
   "source": [
    "ws.abs_speciesSet([\"O3\"])\n",
    "ws.abs_lineshapeDefine(\"Voigt_Kuntz6\", \"VVH\", 750e9)\n",
    "ws.ReadXML(ws.abs_lines, \"testdata/ozone_line.xml\")\n",
    "ws.abs_lines_per_speciesCreateFromLines()"
   ]
  },
  {
   "cell_type": "markdown",
   "metadata": {},
   "source": [
    "## Atmosphere (A Priori)\n",
    "\n",
    "We create a pressure grid using the `PFromZSimple` function to create a grid of approximate pressure levels corresponding to altitudes in the range\n",
    "\n",
    "$$\n",
    "z = 0.0, 2000.0, \\dots, 94000.0\n",
    "$$"
   ]
  },
  {
   "cell_type": "code",
   "execution_count": 19,
   "metadata": {
    "collapsed": true
   },
   "outputs": [],
   "source": [
    "z_toa  = 95e3;\n",
    "z_surf = 1e3;\n",
    "ws.PFromZSimple(ws.p_grid, np.arange(z_surf - 1e3, z_toa, 2e3))\n",
    "ws.lat_grid = np.arange(-40.0, 10.0, 10.0)\n",
    "ws.lon_grid = np.arange(30.0, 80.0, 10.0)\n",
    "ws.z_surface = z_surf * np.ones((np.asarray(ws.lat_grid).size,\n",
    "                                 np.asarray(ws.lon_grid).size))"
   ]
  },
  {
   "cell_type": "markdown",
   "metadata": {},
   "source": [
    "For the a priori state we read data from the Fascod climatology that is part of the ARTS xml data."
   ]
  },
  {
   "cell_type": "code",
   "execution_count": 20,
   "metadata": {
    "collapsed": true
   },
   "outputs": [],
   "source": [
    "ws.AtmRawRead(basename = \"planets/Earth/Fascod/tropical/tropical\")\n",
    "ws.AtmFieldsCalcExpand1D()"
   ]
  },
  {
   "cell_type": "markdown",
   "metadata": {},
   "source": [
    "## Adding Wind\n",
    "\n",
    "Wind in ARTS is represented by the `wind_u_field` and `wind_v_field` WSVs, which hold the horizontal components of the wind at each grid point of the atmosphere model. For this example, a constant wind is assumed."
   ]
  },
  {
   "cell_type": "code",
   "execution_count": 43,
   "metadata": {},
   "outputs": [],
   "source": [
    "u_wind = 60.0\n",
    "v_wind = -40.0\n",
    "ws.wind_u_field = u_wind * np.ones((ws.p_grid.value.size,\n",
    "                                    ws.lat_grid.value.size,\n",
    "                                    ws.lon_grid.value.size))\n",
    "ws.wind_v_field = v_wind * np.ones((ws.p_grid.value.size,\n",
    "                                    ws.lat_grid.value.size,\n",
    "                                    ws.lon_grid.value.size))\n",
    "ws.wind_w_field = np.zeros((0,0,0))"
   ]
  },
  {
   "cell_type": "code",
   "execution_count": null,
   "metadata": {},
   "outputs": [],
   "source": []
  },
  {
   "cell_type": "markdown",
   "metadata": {},
   "source": [
    "## Frequency Grid and Sensor\n",
    "\n",
    "The frequency grid for the simulation consists of 119 grid\n",
    "points between 110.516 and 111.156 GHz. The frequencies\n",
    "are given by a degree-10 polynomial that has been obtained from a fit to the data from the original `qpack` example. This is obscure but also kind of cool."
   ]
  },
  {
   "cell_type": "code",
   "execution_count": 44,
   "metadata": {},
   "outputs": [
    {
     "data": {
      "text/plain": [
       "<matplotlib.text.Text at 0x7fab95e52828>"
      ]
     },
     "execution_count": 44,
     "metadata": {},
     "output_type": "execute_result"
    },
    {
     "data": {
      "image/png": "[encoded data removed]",
      "text/plain": [
       "<matplotlib.figure.Figure at 0x7fab96561ba8>"
      ]
     },
     "metadata": {},
     "output_type": "display_data"
    }
   ],
   "source": [
    "coeffs = np.array([5.06312189e-08, -2.68851772e-05, 6.20655463e-03,\n",
    "                   -8.16344090e-01,   6.75337174e+01,  -3.66786505e+03,\n",
    "                   1.32578167e+05,  -3.14514304e+06,   4.57491354e+07,\n",
    "                   1.10516484e+11])\n",
    "ws.f_grid = np.poly1d(coeffs)(np.arange(119))\n",
    "\n",
    "plt.plot(ws.f_grid.value * 1e-9)\n",
    "plt.xlabel(\"Channel Number\")\n",
    "plt.ylabel(\"Frequency [GHz]\")\n",
    "\n"
   ]
  },
  {
   "cell_type": "markdown",
   "metadata": {},
   "source": [
    "For the sensor we assume a channel width and channel spacing of 50 kHz. We also call `AntennaOff` to compute\n",
    "only one pencilbeam along the line of sight of the sensor."
   ]
  },
  {
   "cell_type": "code",
   "execution_count": 45,
   "metadata": {
    "collapsed": true
   },
   "outputs": [],
   "source": [
    "df = 50e3\n",
    "f_backend = np.arange(ws.f_grid.value.min() + 2.0 * df, ws.f_grid.value.max() - 2.0 * df, df)\n",
    "ws.backend_channel_responseGaussian(np.array([df]), np.array([2.0]))\n",
    "ws.AntennaOff()\n",
    "\n",
    "ws.sensor_norm = 1\n",
    "ws.sensor_responseInit()"
   ]
  },
  {
   "cell_type": "markdown",
   "metadata": {},
   "source": [
    "### Sensor Position and Viewing Geometry\n",
    "\n",
    "5 Measurements are performed, one straight up, and four with zenith angle $70^\\circ$ in directions SW, NW, NE, SE. In ARTS the measurement directions are given by a two-column matrix, where the first column contains the zenith angle and the second column the azimuth angle."
   ]
  },
  {
   "cell_type": "code",
   "execution_count": 46,
   "metadata": {
    "collapsed": true
   },
   "outputs": [],
   "source": [
    "ws.sensor_los = np.array([[0.0, 0.0,],\n",
    "                          [70.0, -135.0],\n",
    "                          [70.0, -45.0],\n",
    "                          [70.0, 45.0],\n",
    "                          [70.0, 135.0]])\n",
    "ws.sensor_pos = np.array([[2000.0, -21.1, 55.6]] * 5)"
   ]
  },
  {
   "cell_type": "markdown",
   "metadata": {
    "collapsed": true
   },
   "source": [
    "## Reference Measurement\n",
    "\n",
    "Before we can calculate `y`, our setup needs to pass the following tests:"
   ]
  },
  {
   "cell_type": "code",
   "execution_count": 47,
   "metadata": {},
   "outputs": [],
   "source": [
    "ws.abs_f_interp_order = 3\n",
    "ws.jacobianOff()\n",
    "ws.propmat_clearsky_agenda_checkedCalc()\n",
    "ws.sensor_checkedCalc()\n",
    "ws.atmgeom_checkedCalc()\n",
    "ws.atmfields_checkedCalc()\n",
    "ws.abs_xsec_agenda_checkedCalc()\n",
    "ws.cloudboxOff()\n",
    "ws.cloudbox_checkedCalc()"
   ]
  },
  {
   "cell_type": "markdown",
   "metadata": {},
   "source": [
    "Now, we can run the simulation using the `yCalc` WSM and display the results. The results for all 5 measurements are stacked in `ws.y`."
   ]
  },
  {
   "cell_type": "code",
   "execution_count": 49,
   "metadata": {},
   "outputs": [
    {
     "data": {
      "text/plain": [
       "<matplotlib.legend.Legend at 0x7fab964919b0>"
      ]
     },
     "execution_count": 49,
     "metadata": {},
     "output_type": "execute_result"
    },
    {
     "data": {
      "image/png": "[encoded data removed]",
      "text/plain": [
       "<matplotlib.figure.Figure at 0x7fab95f67320>"
      ]
     },
     "metadata": {},
     "output_type": "display_data"
    }
   ],
   "source": [
    "ws.yCalc()\n",
    "\n",
    "# Plot results\n",
    "y = np.copy(ws.y)\n",
    "f = np.asarray(ws.f_grid)\n",
    "labels = [\"Up\", \"SW\", \"NW\", \"NE\", \"SE\"]\n",
    "for i,l in zip(range(0, y.size, y.size // 5), labels):\n",
    "    plt.plot(f * 1e-9, y[i:i+f.size], label=l)\n",
    "plt.xlabel(\"f [GHz]\")\n",
    "plt.xscale(\"log\")\n",
    "plt.yscale(\"log\")\n",
    "plt.ylabel(\"RJBT\")\n",
    "plt.ylabel(\"RJBT\")\n",
    "plt.legend()"
   ]
  },
  {
   "cell_type": "markdown",
   "metadata": {
    "collapsed": true
   },
   "source": [
    "## Setting up the Retrieval\n",
    "\n",
    "In this example, we retrieve ozone, the horizontal and vertical components of the wind velocities as well as a frequency shift and a polynomial baseline."
   ]
  },
  {
   "cell_type": "code",
   "execution_count": 51,
   "metadata": {},
   "outputs": [],
   "source": [
    "ws.retrievalDefInit()"
   ]
  },
  {
   "cell_type": "code",
   "execution_count": 14,
   "metadata": {},
   "outputs": [
    {
     "data": {
      "text/plain": [
       "array([[[ 1.]]])"
      ]
     },
     "execution_count": 14,
     "metadata": {},
     "output_type": "execute_result"
    }
   ],
   "source": []
  },
  {
   "cell_type": "code",
   "execution_count": null,
   "metadata": {},
   "outputs": [],
   "source": []
  },
  {
   "cell_type": "code",
   "execution_count": null,
   "metadata": {
    "collapsed": true
   },
   "outputs": [],
   "source": []
  }
 ],
 "metadata": {
  "kernelspec": {
   "display_name": "Python 3",
   "language": "python",
   "name": "python3"
  },
  "language_info": {
   "codemirror_mode": {
    "name": "ipython",
    "version": 3
   },
   "file_extension": ".py",
   "mimetype": "text/x-python",
   "name": "python",
   "nbconvert_exporter": "python",
   "pygments_lexer": "ipython3",
   "version": "3.6.1"
  }
 },
 "nbformat": 4,
 "nbformat_minor": 2
}
