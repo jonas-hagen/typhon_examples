{
 "cells": [
  {
   "cell_type": "code",
   "execution_count": 1,
   "metadata": {},
   "outputs": [
    {
     "name": "stdout",
     "output_type": "stream",
     "text": [
      "env: ARTS_INCLUDE_PATH=/home/simon/src/arts_clean/controlfiles/\n",
      "env: ARTS_DATA_PATH=/home/simon/src/arts_xml/\n",
      "env: ARTS_BUILD_PATH=/home/simon/build/arts_production/arts\n",
      "Loading ARTS API from: /home/simon/build/arts_production/arts/src/arts_api.so\n"
     ]
    }
   ],
   "source": [
    "%env ARTS_INCLUDE_PATH=/home/simon/src/arts_clean/controlfiles/\n",
    "%env ARTS_DATA_PATH=/home/simon/src/arts_xml/\n",
    "%env ARTS_BUILD_PATH=/home/simon/build/arts_production/arts\n",
    "\n",
    "from typhon.arts.workspace import Workspace"
   ]
  },
  {
   "cell_type": "code",
   "execution_count": 2,
   "metadata": {
    "collapsed": true
   },
   "outputs": [],
   "source": [
    "ws = Workspace()\n",
    "ws.yCalc?"
   ]
  },
  {
   "cell_type": "code",
   "execution_count": 3,
   "metadata": {
    "collapsed": true
   },
   "outputs": [],
   "source": [
    "ws.execute_controlfile(\"general/general.arts\")\n",
    "ws.execute_controlfile(\"general/continua.arts\")\n",
    "ws.execute_controlfile(\"general/agendas.arts\")\n",
    "ws.execute_controlfile(\"general/planet_earth.arts\")"
   ]
  },
  {
   "cell_type": "code",
   "execution_count": 5,
   "metadata": {
    "collapsed": true
   },
   "outputs": [],
   "source": [
    "ws.Copy(ws.abs_xsec_agenda, ws.abs_xsec_agenda__noCIA )\n",
    "ws.Copy( ws.iy_main_agenda, ws.iy_main_agenda__Emission )\n",
    "ws.Copy( ws.iy_space_agenda, ws.iy_space_agenda__CosmicBackground )\n",
    "ws.Copy( ws.iy_surface_agenda, ws.iy_surface_agenda__UseSurfaceRtprop )\n",
    "ws.Copy( ws.propmat_clearsky_agenda, ws.propmat_clearsky_agenda__OnTheFly )\n",
    "ws.Copy( ws.ppath_agenda, ws.ppath_agenda__FollowSensorLosPath )\n",
    "ws.Copy( ws.ppath_step_agenda, ws.ppath_step_agenda__GeometricPath )"
   ]
  },
  {
   "cell_type": "code",
   "execution_count": 6,
   "metadata": {},
   "outputs": [],
   "source": [
    "ws.stokes_dim = 1\n",
    "ws.cloudboxOff()\n",
    "ws.jacobianOff()"
   ]
  },
  {
   "cell_type": "code",
   "execution_count": 7,
   "metadata": {
    "collapsed": true
   },
   "outputs": [],
   "source": [
    "ws.VectorNLogSpace( ws.p_grid, 200, 1013e2, 10.0 )\n",
    "ws.abs_speciesSet( species=[\"N2\", \"O2\", \"H2O\"] )\n",
    "# Read a line file and a matching small frequency grid\n",
    "ws.abs_linesReadFromSplitArtscat(\n",
    "    ws.abs_species,\n",
    "    \"spectroscopy/Perrin/\",\n",
    "    10e9,\n",
    "    250e9\n",
    "    )\n",
    "# Sort the line file according to species\n",
    "ws.abs_lines_per_speciesCreateFromLines()"
   ]
  },
  {
   "cell_type": "code",
   "execution_count": 8,
   "metadata": {},
   "outputs": [],
   "source": [
    "from typhon.arts.workspace.variables import *\n",
    "\n",
    "# Atmospheric scenario\n",
    "ws.AtmRawRead( basename=\"planets/Earth/Fascod/midlatitude-summer/midlatitude-summer\" )\n",
    "# Non reflecting surface\n",
    "ws.VectorSetConstant( surface_scalar_reflectivity, 1, 0.1 )\n",
    "ws.Copy( surface_rtprop_agenda, ws.surface_rtprop_agenda__Specular_NoPol_ReflFix_SurfTFromt_surface )\n",
    "# Create a frequency grid\n",
    "ws.VectorNLinSpace( f_grid, 1000, 10e+9, 250e+9 )\n",
    "# No sensor properties\n",
    "ws.sensorOff()\n",
    "# We select here to use Planck brightness temperatures\n",
    "ws.StringSet( iy_unit, \"PlanckBT\" )\n",
    "# Extract optical depth as auxiliary variables\n",
    "ws.ArrayOfStringSet( iy_aux_vars, [ \"Optical depth\"] )\n",
    "# Create vector container for the optical depth\n",
    "odepth = ws.VectorCreate()\n"
   ]
  },
  {
   "cell_type": "code",
   "execution_count": 9,
   "metadata": {
    "collapsed": true
   },
   "outputs": [],
   "source": [
    "import numpy as np\n",
    "# Atmosphere and surface\n",
    "ws.AtmosphereSet1D()\n",
    "ws.AtmFieldsCalc()\n",
    "ws.Extract( ws.z_surface, ws.z_field, 0 )\n",
    "ws.Extract( ws.t_surface, ws.t_field, 0 )\n",
    "\n",
    "# Definition of sensor position and line of sight (LOS)\n",
    "ws.MatrixSet( ws.sensor_pos, np.array([[0.0]])) # 10e3 for sensor in z = 10 km\n",
    "ws.MatrixSet( ws.sensor_los, np.array([[0.0]])) # zenith angle: 0 looking up, 180 looking nadir\n",
    "\n",
    "# Perform RT calculations\n",
    "ws.abs_xsec_agenda_checkedCalc()\n",
    "ws.propmat_clearsky_agenda_checkedCalc()\n",
    "ws.atmfields_checkedCalc()\n",
    "ws.atmgeom_checkedCalc()\n",
    "ws.cloudbox_checkedCalc()\n",
    "ws.sensor_checkedCalc()\n",
    "ws.yCalc()"
   ]
  },
  {
   "cell_type": "code",
   "execution_count": 10,
   "metadata": {},
   "outputs": [
    {
     "data": {
      "text/plain": [
       "[<matplotlib.lines.Line2D at 0x7f7b4d88d358>]"
      ]
     },
     "execution_count": 10,
     "metadata": {},
     "output_type": "execute_result"
    },
    {
     "data": {
      "image/png": "[encoded data removed]",
      "text/plain": [
       "<matplotlib.figure.Figure at 0x7f7b8c3de048>"
      ]
     },
     "metadata": {},
     "output_type": "display_data"
    }
   ],
   "source": [
    "%matplotlib inline\n",
    "import matplotlib.pyplot as plt\n",
    "plt.plot(ws.y)\n",
    "t = np.asarray(ws.t_field)\n",
    "t *= 1.2\n",
    "ws.yCalc()\n",
    "plt.plot(ws.y)"
   ]
  }
 ],
 "metadata": {
  "kernelspec": {
   "display_name": "Python 3",
   "language": "python",
   "name": "python3"
  },
  "language_info": {
   "codemirror_mode": {
    "name": "ipython",
    "version": 3
   },
   "file_extension": ".py",
   "mimetype": "text/x-python",
   "name": "python",
   "nbconvert_exporter": "python",
   "pygments_lexer": "ipython3",
   "version": "3.6.1"
  }
 },
 "nbformat": 4,
 "nbformat_minor": 2
}
