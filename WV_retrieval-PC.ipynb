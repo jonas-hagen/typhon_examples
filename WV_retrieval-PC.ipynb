{
 "cells": [
  {
   "cell_type": "code",
   "execution_count": 1,
   "metadata": {
    "collapsed": true
   },
   "outputs": [],
   "source": [
    "# Example water vapor retrieval with ATMS sensor, using\n",
    "#  ARTS OEM solver and principal components.\n",
    "#\n",
    "# Simon Pfreundschuh and David Duncan, Chalmers University"
   ]
  },
  {
   "cell_type": "markdown",
   "metadata": {},
   "source": [
    "# Set up ARTS/Python environment\n"
   ]
  },
  {
   "cell_type": "code",
   "execution_count": 22,
   "metadata": {},
   "outputs": [
    {
     "name": "stdout",
     "output_type": "stream",
     "text": [
      "env: ARTS_INCLUDE_PATH=/home/simon/src/arts_clean/controlfiles/\n",
      "env: ARTS_DATA_PATH=/home/simon/src/arts_xml/\n",
      "env: ARTS_BUILD_PATH=/home/simon/build/arts_production/arts/\n"
     ]
    }
   ],
   "source": [
    "%env ARTS_INCLUDE_PATH=/home/simon/src/arts_clean/controlfiles/\n",
    "%env ARTS_DATA_PATH=/home/simon/src/arts_xml/\n",
    "%env ARTS_BUILD_PATH=/home/simon/build/arts_production/arts/\n",
    "\n",
    "%matplotlib inline\n",
    "import numpy as np\n",
    "import matplotlib.pyplot as plt\n",
    "\n",
    "from typhon.arts.workspace import Workspace, arts_agenda\n",
    "ws = Workspace()\n",
    "ws.execute_controlfile(\"general/general.arts\")\n",
    "ws.execute_controlfile(\"general/continua.arts\")\n",
    "ws.execute_controlfile(\"general/agendas.arts\")\n",
    "ws.execute_controlfile(\"general/planet_earth.arts\")"
   ]
  },
  {
   "cell_type": "code",
   "execution_count": 23,
   "metadata": {
    "collapsed": true
   },
   "outputs": [],
   "source": [
    "# define absorbing species and sensor (here using metmm library, used again below)\n",
    "ws.Copy(ws.abs_xsec_agenda, ws.abs_xsec_agenda__noCIA)\n",
    "ws.abs_speciesSet(species=[\"H2O-PWR98\",\"O2-PWR93\",\"N2-SelfContStandardType\"])\n",
    "ws.ReadXML( ws.abs_lines, \"instruments/metmm/abs_lines_metmm.xml.gz\")\n",
    "ws.abs_lines_per_speciesCreateFromLines()"
   ]
  },
  {
   "cell_type": "markdown",
   "metadata": {},
   "source": [
    "# General Settings"
   ]
  },
  {
   "cell_type": "code",
   "execution_count": 24,
   "metadata": {
    "collapsed": true
   },
   "outputs": [],
   "source": [
    "ws.stokes_dim = 1\n",
    "ws.iy_unit = \"PlanckBT\"\n",
    "ws.cloudboxOff()"
   ]
  },
  {
   "cell_type": "markdown",
   "metadata": {
    "collapsed": true
   },
   "source": [
    "# Atmosphere set up"
   ]
  },
  {
   "cell_type": "code",
   "execution_count": 25,
   "metadata": {},
   "outputs": [
    {
     "data": {
      "text/plain": [
       "<matplotlib.text.Text at 0x7fcc8affd9e8>"
      ]
     },
     "execution_count": 25,
     "metadata": {},
     "output_type": "execute_result"
    },
    {
     "data": {
      "image/png": "[encoded data removed]",
      "text/plain": [
       "<matplotlib.figure.Figure at 0x7fcc8b01de48>"
      ]
     },
     "metadata": {},
     "output_type": "display_data"
    }
   ],
   "source": [
    "ws.atmosphere_dim = 1  # for 1DVAR\n",
    "#ws.VectorNLogSpace( ws.p_grid, 20, 1e5, 1e4 ) # 20 levels from 1000 to 100 hPa\n",
    "p = np.array([1000.,975.,950.,925.,900.,850.,800.,750.,700.,650.,600.,550.,500.,400.,300.,200.,100.])*100.0\n",
    "ws.p_grid = 0.5 * (p[1:] + p[:-1])\n",
    "ws.AtmRawRead( basename = \"planets/Earth/Fascod/tropical/tropical\") #tropical atmosphere assumed\n",
    "ws.AtmFieldsCalc()\n",
    "ws.AbsInputFromAtmFields()\n",
    "\n",
    "ws.z_surface = np.asarray(ws.z_field)[0]\n",
    "ws.t_surface = np.asarray(ws.t_field)[0]\n",
    "\n",
    "# plot T, water vapor, N2 and O2 versus altitude\n",
    "\n",
    "#plt.plot(np.asarray(ws.t_field).ravel(), alt\n",
    "alt = np.asarray(ws.z_field).ravel() * .001 # altitude in km (for plotting)\n",
    "#plt.xlabel(\"T [K]\")\n",
    "#plt.ylabel(\"z [km]\")\n",
    "plt.plot(np.asarray(ws.vmr_field)[0,:,0,0], alt)\n",
    "plt.xlabel(\"$H_2O [mol/mol$]\")\n",
    "plt.ylabel(\"z [km]\")\n",
    "#plt.plot(np.asarray(ws.vmr_field)[1,:,0,0], alt, label=\"$O_2$\")\n",
    "#plt.plot(np.asarray(ws.vmr_field)[2,:,0,0], alt, label=\"$N_2$\")\n",
    "#plt.xlabel(\"vmr [mol / mol]\")\n",
    "#plt.ylabel(\"z [km]\")\n",
    "#plt.legend()"
   ]
  },
  {
   "cell_type": "markdown",
   "metadata": {},
   "source": [
    "# Sensor definition"
   ]
  },
  {
   "cell_type": "code",
   "execution_count": 26,
   "metadata": {
    "collapsed": true
   },
   "outputs": [],
   "source": [
    "ws.ArrayOfIndexCreate(\"channels\")\n",
    "ws.channels = [17,18,19,20,21] # channel index values given in metmm sensor description\n",
    "ws.ArrayOfIndexCreate(\"viewing_angles\")\n",
    "ws.viewing_angles = [47] # index of stored viewing angles in metmm file\n",
    "\n",
    "ws.sensor_pos  = np.array([[850e3]]) # 850km\n",
    "ws.sensor_time = np.array([0.0])\n",
    "ws.sensor_los  = np.array([[180.0]]) # nadir viewing\n",
    "\n",
    "ws.IndexCreate(\"met_mm_accuracy\") \n",
    "ws.met_mm_accuracy = 1 # points within each bandwidth to comute abs characteristics\n",
    "\n",
    "ws.execute_controlfile(\"instruments/metmm/sensor_descriptions/prepare_metmm.arts\")\n",
    "ws.execute_controlfile(\"instruments/metmm/sensor_descriptions/sensor_atms.arts\")\n",
    "ws.execute_controlfile(\"instruments/metmm/sensor_descriptions/apply_metmm.arts\")\n",
    "ws.execute_controlfile(\"instruments/metmm/common_metmm.arts\")"
   ]
  },
  {
   "cell_type": "code",
   "execution_count": 27,
   "metadata": {
    "collapsed": true
   },
   "outputs": [],
   "source": [
    "ws.atmfields_checkedCalc( bad_partition_functions_ok = 1 )\n",
    "ws.abs_xsec_agenda_checkedCalc()\n",
    "ws.abs_lookupSetup()\n",
    "ws.abs_lookupCalc()"
   ]
  },
  {
   "cell_type": "markdown",
   "metadata": {},
   "source": [
    "# Surface \n"
   ]
  },
  {
   "cell_type": "code",
   "execution_count": 28,
   "metadata": {
    "collapsed": true
   },
   "outputs": [],
   "source": [
    "ws.surface_scalar_reflectivity = np.array([0.5]) # nominal albedo for surface\n",
    "ws.propmat_clearsky_agenda_checkedCalc()\n",
    "ws.atmgeom_checkedCalc()\n",
    "ws.cloudbox_checkedCalc()\n",
    "ws.sensor_checkedCalc()\n",
    "ws.jacobianOff()"
   ]
  },
  {
   "cell_type": "markdown",
   "metadata": {},
   "source": [
    "# Call forward model"
   ]
  },
  {
   "cell_type": "code",
   "execution_count": 29,
   "metadata": {},
   "outputs": [
    {
     "data": {
      "text/plain": [
       "array([ 276.92856134,  270.37567794,  264.02072366,  256.46135151,\n",
       "        249.86219702])"
      ]
     },
     "execution_count": 29,
     "metadata": {},
     "output_type": "execute_result"
    }
   ],
   "source": [
    "ws.yCalc()\n",
    "ws.y.value # write out TBs for first ycalc"
   ]
  },
  {
   "cell_type": "code",
   "execution_count": 30,
   "metadata": {
    "collapsed": true
   },
   "outputs": [],
   "source": [
    "# now perturb the initial VMR field for water vapor\n",
    "if not \"orig_h2o\" in globals().keys():\n",
    "    orig_h2o = np.array(ws.vmr_field)[0,:,0,0] # save original WV profile (true state)\n",
    "#np.asarray(ws.vmr_field)[0,:,0,0] = orig_h2o * 1.19 # perturb by x% at all layers\n",
    "#perturbed = np.copy(ws.vmr_field)[0,:,0,0] # save as 'perturbed' -- will form apriori state\n",
    "\n"
   ]
  },
  {
   "cell_type": "markdown",
   "metadata": {},
   "source": [
    "# Set up PCs for retrieval"
   ]
  },
  {
   "cell_type": "code",
   "execution_count": 128,
   "metadata": {},
   "outputs": [
    {
     "data": {
      "text/plain": [
       "<matplotlib.figure.Figure at 0x7fcc89577320>"
      ]
     },
     "execution_count": 128,
     "metadata": {},
     "output_type": "execute_result"
    },
    {
     "data": {
      "image/png": "[encoded data removed]",
      "text/plain": [
       "<matplotlib.figure.Figure at 0x7fcc89758898>"
      ]
     },
     "metadata": {},
     "output_type": "display_data"
    },
    {
     "data": {
      "image/png": "[encoded data removed]",
      "text/plain": [
       "<matplotlib.figure.Figure at 0x7fcc895f7668>"
      ]
     },
     "metadata": {},
     "output_type": "display_data"
    },
    {
     "data": {
      "text/plain": [
       "<matplotlib.figure.Figure at 0x7fcc89577320>"
      ]
     },
     "metadata": {},
     "output_type": "display_data"
    }
   ],
   "source": [
    "invar = np.loadtxt(\"pcs.txt\") # read in PCs from ascii file\n",
    "meanwv = np.array(invar[0:16][::-1]) # invert profiles to fit fwd model\n",
    "A = np.transpose(invar[16:].reshape(6,16))\n",
    "# convert WV mixing ratio (g/kg) to vmr (mol/mol)\n",
    "factor = 28.966/18.016 * 0.001 \n",
    "\n",
    "# PCs are in the wrong order, we go from the ground up\n",
    "# Also need to take care that they are in c order instead\n",
    "# of fortran order.\n",
    "# We also limit numbr of PCs, seems like retrieval is not\n",
    "# very well behaved...\n",
    "n_pcs   = 4\n",
    "PCs     = np.ascontiguousarray(A[::-1,:n_pcs] * factor)\n",
    "meanwv *= factor\n",
    "\n",
    "perturbed = meanwv # a priori state is mean profile of PCA\n",
    "for i in range(n_pcs): # plot first x PCs\n",
    "    plt.plot(PCs[:,i],alt,label=\"WV PC\"+str(i+1))\n",
    "plt.legend()\n",
    "\n",
    "plt.figure()\n",
    "plt.plot(orig_h2o.ravel(), alt, label=\"True state\")\n",
    "plt.plot(perturbed, alt, label=\"Perturbed (Prior)\")\n",
    "plt.xlabel(\"$H_2O [kg / m^3$]\")\n",
    "plt.ylabel(\"z [km]\")\n",
    "plt.legend()\n",
    "plt.figure()"
   ]
  },
  {
   "cell_type": "markdown",
   "metadata": {},
   "source": [
    "# Set up OEM retrieval"
   ]
  },
  {
   "cell_type": "code",
   "execution_count": null,
   "metadata": {
    "collapsed": true
   },
   "outputs": [],
   "source": []
  },
  {
   "cell_type": "code",
   "execution_count": 129,
   "metadata": {},
   "outputs": [
    {
     "name": "stdout",
     "output_type": "stream",
     "text": [
      "1\n"
     ]
    },
    {
     "data": {
      "text/plain": [
       "array([  2.50626377e-05,  -1.22741010e-04,   2.11559782e-04,\n",
       "        -1.51199543e-04])"
      ]
     },
     "execution_count": 129,
     "metadata": {},
     "output_type": "execute_result"
    },
    {
     "data": {
      "image/png": "[encoded data removed]",
      "text/plain": [
       "<matplotlib.figure.Figure at 0x7fcc897e4cf8>"
      ]
     },
     "metadata": {},
     "output_type": "display_data"
    }
   ],
   "source": [
    "ws.retrievalDefInit()\n",
    "print(1)\n",
    "ws.retrievalAddAbsSpecies(   # only retrieval variable is abs species, water vapor\n",
    " species=\"H2O-PWR98\",\n",
    " unit=\"vmr\",\n",
    " g1=ws.p_grid,\n",
    " g2=ws.lat_grid,\n",
    " g3=ws.lon_grid\n",
    ")\n",
    "ws.transformationAdd(transformation_matrix=PCs, offset_vector=meanwv)\n",
    "ws.covmatDiagonal(np.ones(n_pcs) * 1e-1)\n",
    "\n",
    "# Constrain H_2O to be greater than (\"gt\") 0\n",
    "ws.retrievalConstraintAdd(type=\"gt\", limit=0.0)\n",
    "# Add block for covariance matrix\n",
    "ws.covmat_sxAddBlock(block=ws.covmat_block)\n",
    "\n",
    "se_cov = np.zeros(ws.y.value.size) + 2.0**2 # set channel assumed errors\n",
    "ws.covmatDiagonal(se_cov) # diagonal (uncorrelated) errors only for now\n",
    "ws.covmat_seSet()\n",
    "ws.retrievalDefClose()\n",
    "\n",
    "# define inversion iteration as function object within python\n",
    "@arts_agenda\n",
    "def inversion_iterate_agenda(ws):\n",
    "    ws.x2artsStandard()  # map x to ARTS's variables\n",
    "    ws.atmfields_checkedCalc()  # to be safe, rerun checks dealing with atmosph.\n",
    "    ws.atmgeom_checkedCalc()\n",
    "    ws.yCalc()  # calculate yf and jacobian matching x\n",
    "    ws.Print(ws.y)\n",
    "    ws.Print(ws.jacobian)\n",
    "    ws.VectorAddVector( ws.yf, ws.y, ws.y_baseline )  # add baseline term\n",
    "    ws.jacobianAdjustAfterIteration() \n",
    "    # last line takes care of some fixes needed to get the jacobian right for iterative solutions\n",
    "    \n",
    "ws.Copy(ws.inversion_iterate_agenda, inversion_iterate_agenda) # copy python function to arts\n",
    "    \n",
    "#ws.xaStandard() # set xa to vmr field, effectively \n",
    "ws.xa = np.zeros(n_pcs) # if supplying user-defined a priori vector\n",
    "ws.x = np.array([]) # create empty vector for retrieved state vector?\n",
    "ws.yf = np.array([]) # create empty vector for simulated TB?\n",
    "ws.jacobian = np.array([[]])\n",
    "\n",
    "ws.Copy(ws.x, ws.xa)\n",
    "ws.x.value[2] = 1.0 \n",
    "ws.x2artsStandard()\n",
    "ws.xaStandard()\n",
    "plt.plot( ws.vmr_field.value[0,:,:,:].ravel(), ws.z_field.value.ravel())\n",
    "plt.plot(meanwv, ws.z_field.value.ravel(), ls=\"--\")\n",
    "meanwv = np.copy(meanwv)\n",
    "meanwv.strides\n",
    "ws.xa.value"
   ]
  },
  {
   "cell_type": "markdown",
   "metadata": {},
   "source": [
    "# Run OEM retrieval"
   ]
  },
  {
   "cell_type": "code",
   "execution_count": 130,
   "metadata": {},
   "outputs": [],
   "source": [
    "ws.OEM(method=\"gn\",\n",
    "    max_iter=1000,\n",
    "    display_progress=1,\n",
    "    max_start_cost=1e5,\n",
    "    lm_ga_settings=np.array([10.0,2.0,2.0,1000000000000000000000000000.0,1.0,99.0])\n",
    "       )\n",
    "ws.x2artsStandard() # convert from ARTS coords back to user-defined grid"
   ]
  },
  {
   "cell_type": "code",
   "execution_count": 131,
   "metadata": {},
   "outputs": [
    {
     "data": {
      "text/plain": [
       "array([-0.28747338, -0.2564862 , -0.39013339, -0.38546719])"
      ]
     },
     "execution_count": 131,
     "metadata": {},
     "output_type": "execute_result"
    }
   ],
   "source": [
    "# save resultant WV profile to 'retrieved'\n",
    "retrieved = np.copy(ws.vmr_field)[0,:,0,0]\n",
    "retrieved.min()\n",
    "ws.oem_errors.print()\n",
    "ws.x.value"
   ]
  },
  {
   "cell_type": "markdown",
   "metadata": {},
   "source": [
    "# Look at results"
   ]
  },
  {
   "cell_type": "code",
   "execution_count": 132,
   "metadata": {},
   "outputs": [
    {
     "data": {
      "text/plain": [
       "<matplotlib.legend.Legend at 0x7fcc8a155c50>"
      ]
     },
     "execution_count": 132,
     "metadata": {},
     "output_type": "execute_result"
    },
    {
     "data": {
      "image/png": "[encoded data removed]",
      "text/plain": [
       "<matplotlib.figure.Figure at 0x7fcc89f62c50>"
      ]
     },
     "metadata": {},
     "output_type": "display_data"
    }
   ],
   "source": [
    "plt.plot(orig_h2o, alt, label=\"Truth\")\n",
    "plt.plot(retrieved, alt, label=\"Retrieved\")\n",
    "plt.plot(perturbed, alt, label=\"A Priori\", ls=\"--\")\n",
    "plt.xlabel(\"$H_2O [kg / m^3$]\")\n",
    "plt.ylabel(\"z [km]\")\n",
    "#plt.xscale(\"log\")\n",
    "plt.legend()"
   ]
  },
  {
   "cell_type": "code",
   "execution_count": 134,
   "metadata": {},
   "outputs": [
    {
     "data": {
      "text/plain": [
       "array([[  1.83450225e-04,  -1.58379055e-04,   2.50626377e-05,\n",
       "         -5.57183059e-05],\n",
       "       [ -1.58379055e-04,   2.96620218e-04,  -1.22741010e-04,\n",
       "          3.06286470e-05],\n",
       "       [  2.50626377e-05,  -1.22741010e-04,   2.11559782e-04,\n",
       "         -1.51199543e-04],\n",
       "       [ -5.57183059e-05,   3.06286470e-05,  -1.51199543e-04,\n",
       "          3.98713724e-04]])"
      ]
     },
     "execution_count": 134,
     "metadata": {},
     "output_type": "execute_result"
    },
    {
     "data": {
      "image/png": "[encoded data removed]",
      "text/plain": [
       "<matplotlib.figure.Figure at 0x7fcc898b8c50>"
      ]
     },
     "metadata": {},
     "output_type": "display_data"
    }
   ],
   "source": [
    "# The retrieval does not look very good but let's have a look\n",
    "# if we can reach it att all\n",
    "d_h2o = perturbed - orig_h2o\n",
    "norm = np.dot(np.transpose(PCs), PCs)\n",
    "components = np.dot(np.transpose(PCs), d_h2o) / norm.diagonal()\n",
    "d_h2o_r = np.dot(PCs, components)\n",
    "plt.plot(perturbed - d_h2o, alt, label=\"Perturbed\")\n",
    "plt.plot(perturbed - d_h2o_r, alt, label=\"Closest profile in PC space\")\n",
    "plt.legend()\n",
    "norm"
   ]
  },
  {
   "cell_type": "code",
   "execution_count": 89,
   "metadata": {},
   "outputs": [
    {
     "data": {
      "text/plain": [
       "array([ 0.33772156,  1.21324023,  2.38326569,  4.19175665,  6.19395683])"
      ]
     },
     "execution_count": 89,
     "metadata": {},
     "output_type": "execute_result"
    }
   ],
   "source": [
    "# compare simulated and 'observed' TB from \n",
    "residual = ws.y.value - ws.yf.value\n",
    "residual "
   ]
  },
  {
   "cell_type": "code",
   "execution_count": 90,
   "metadata": {},
   "outputs": [
    {
     "data": {
      "text/plain": [
       "<matplotlib.colorbar.Colorbar at 0x7fcc89d19400>"
      ]
     },
     "execution_count": 90,
     "metadata": {},
     "output_type": "execute_result"
    },
    {
     "data": {
      "image/png": "[encoded data removed]",
      "text/plain": [
       "<matplotlib.figure.Figure at 0x7fcc8a65a2e8>"
      ]
     },
     "metadata": {},
     "output_type": "display_data"
    }
   ],
   "source": [
    "# plot jacobian -- should show sensitivity in middle troposphere\n",
    "plt.imshow(ws.jacobian)\n",
    "plt.colorbar()"
   ]
  },
  {
   "cell_type": "code",
   "execution_count": 91,
   "metadata": {},
   "outputs": [
    {
     "data": {
      "text/plain": [
       "0.46438867332133549"
      ]
     },
     "execution_count": 91,
     "metadata": {},
     "output_type": "execute_result"
    },
    {
     "data": {
      "image/png": "[encoded data removed]",
      "text/plain": [
       "<matplotlib.figure.Figure at 0x7fcc89dc3eb8>"
      ]
     },
     "metadata": {},
     "output_type": "display_data"
    }
   ],
   "source": [
    "ws.avkCalc() # calculate averaging kernel (A-matrix)\n",
    "plt.matshow(ws.avk)\n",
    "plt.colorbar()\n",
    "np.diag(ws.avk)\n",
    "sum(np.diag(ws.avk)) # print trace of A-matrix, aka degrees of freedom for signal (DFS)"
   ]
  },
  {
   "cell_type": "code",
   "execution_count": 92,
   "metadata": {
    "collapsed": true
   },
   "outputs": [],
   "source": [
    "# calculate posterior covariance matrices of observations and a priori\n",
    "ws.covmat_soCalc() # observation covariance matrix\n",
    "ws.covmat_ssCalc() # smoothing covariance matrix"
   ]
  },
  {
   "cell_type": "code",
   "execution_count": 93,
   "metadata": {},
   "outputs": [
    {
     "data": {
      "text/plain": [
       "<matplotlib.colorbar.Colorbar at 0x7fcc89c03940>"
      ]
     },
     "execution_count": 93,
     "metadata": {},
     "output_type": "execute_result"
    },
    {
     "data": {
      "image/png": "[encoded data removed]",
      "text/plain": [
       "<matplotlib.figure.Figure at 0x7fcc89dd5ac8>"
      ]
     },
     "metadata": {},
     "output_type": "display_data"
    }
   ],
   "source": [
    "# plot posterior observation covariance matrix\n",
    "plt.matshow(ws.covmat_so)\n",
    "plt.colorbar()"
   ]
  },
  {
   "cell_type": "code",
   "execution_count": 94,
   "metadata": {},
   "outputs": [
    {
     "data": {
      "text/plain": [
       "array([-0.33454797, -0.29574908, -0.43371509])"
      ]
     },
     "execution_count": 94,
     "metadata": {},
     "output_type": "execute_result"
    }
   ],
   "source": [
    "ws.x.value"
   ]
  },
  {
   "cell_type": "code",
   "execution_count": null,
   "metadata": {
    "collapsed": true
   },
   "outputs": [],
   "source": []
  }
 ],
 "metadata": {
  "kernelspec": {
   "display_name": "Python 3",
   "language": "python",
   "name": "python3"
  },
  "language_info": {
   "codemirror_mode": {
    "name": "ipython",
    "version": 3
   },
   "file_extension": ".py",
   "mimetype": "text/x-python",
   "name": "python",
   "nbconvert_exporter": "python",
   "pygments_lexer": "ipython3",
   "version": "3.6.1"
  }
 },
 "nbformat": 4,
 "nbformat_minor": 2
}
